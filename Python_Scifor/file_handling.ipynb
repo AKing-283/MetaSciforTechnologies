{
  "nbformat": 4,
  "nbformat_minor": 0,
  "metadata": {
    "colab": {
      "provenance": []
    },
    "kernelspec": {
      "name": "python3",
      "display_name": "Python 3"
    },
    "language_info": {
      "name": "python"
    }
  },
  "cells": [
    {
      "cell_type": "code",
      "execution_count": null,
      "metadata": {
        "colab": {
          "base_uri": "https://localhost:8080/"
        },
        "id": "1LpeBLQsQWIl",
        "outputId": "78f3d15c-6acb-42fb-b591-64ba865b9cda"
      },
      "outputs": [
        {
          "output_type": "stream",
          "name": "stdout",
          "text": [
            "Python is an interpreted,\n",
            "object-oriented, high-level programming language with dynamic semantics.\n",
            "It is a high-level built in data structures, combined with dynamic typing and dynamic binding, make it very attractive for Rapid Application\n",
            "Development, as well as for use as a scripting or glue language to connect\n",
            "existing components together. Python&#39;s simple, easy to learn syntax\n",
            "emphasizes readability and therefore reduces the cost of program\n",
            "maintenance. Python supports modules and packages, which encourages\n",
            "program modularity and code reuse. The Python interpreter and the\n",
            "extensive standard library are available in source or binary form without\n",
            "charge for all major platforms, and can be freely distributed.\n"
          ]
        }
      ],
      "source": [
        "file1 = open(\"/content/aboutPython.txt\",\"r\")\n",
        "print(file1.read())\n",
        "file1.close()"
      ]
    },
    {
      "cell_type": "code",
      "source": [
        "def nums_in_file(file_path):\n",
        " with open(file_path, 'r') as file:\n",
        "    line_number = 0\n",
        "    found_numbers_at_line = False\n",
        "    for line in file:\n",
        "      line_number += 1\n",
        "      if any(char.isdigit() for char in line):\n",
        "        print(f\"Numerical value found on line {line_number}: {line.strip()}\")\n",
        "        found_numbers_at_line = True\n",
        "\n",
        "    if not found_numbers_at_line:\n",
        "      print(\"No numerical values found in the file.\")\n",
        "\n",
        "\n",
        "file_path = \"/content/aboutPython.txt\"\n",
        "nums_in_file(file_path)\n"
      ],
      "metadata": {
        "colab": {
          "base_uri": "https://localhost:8080/"
        },
        "id": "6AHFpJKzQ1js",
        "outputId": "38bbaa77-03f7-48a4-8daa-50dc34aed24c"
      },
      "execution_count": null,
      "outputs": [
        {
          "output_type": "stream",
          "name": "stdout",
          "text": [
            "Numerical value found on line 5: existing components together. Python&#39;s simple, easy to learn syntax\n",
            "Numerical value found on line 11: 12,23,43,3,4,4,33,22,232,22\n"
          ]
        }
      ]
    },
    {
      "cell_type": "code",
      "source": [
        "#BMI File\n",
        "def add_bmi_to_file(file_path):\n",
        "  user_height = float(input(\"Enter the users height in meters: \"))\n",
        "  user_weight = float(input(\"Enter the user's weight in kilograms:\"))\n",
        "  bmi = user_weight / (user_height ** 2)\n",
        "  print(f\"Your BMI is: {bmi}\")\n",
        "  with open(file_path, 'a') as file:\n",
        "    file.write(f\"BMI: {bmi}\\n\")\n",
        "\n",
        "\n",
        "\n",
        "\n",
        "file_path=\"/content/bmi.txt\"\n",
        "add_bmi_to_file(file_path)\n",
        "file1 = open(file_path,\"r\")\n",
        "print(file1.read())\n",
        "file1.close"
      ],
      "metadata": {
        "colab": {
          "base_uri": "https://localhost:8080/"
        },
        "id": "fq19yAiyCpWL",
        "outputId": "761d99f1-c84a-454d-b0b4-db6d4324db38"
      },
      "execution_count": null,
      "outputs": [
        {
          "output_type": "stream",
          "name": "stdout",
          "text": [
            "Enter the users height in meters: 198\n",
            "Enter the user's weight in kilograms:55\n",
            "Your BMI is: 0.0014029180695847362\n",
            "Past details:\n",
            "Height:170cm\n",
            "Weight:50Kgs\n",
            "\n",
            "0.0017301038\n",
            "BMI: 0.0014029180695847362\n",
            "\n"
          ]
        },
        {
          "output_type": "execute_result",
          "data": {
            "text/plain": [
              "<function TextIOWrapper.close()>"
            ]
          },
          "metadata": {},
          "execution_count": 13
        }
      ]
    },
    {
      "cell_type": "code",
      "source": [
        "#Line number question\n",
        "def serial_num(file_path):\n",
        "  with open(file_path, 'a') as file_new:\n",
        "    input1 = input(\"Enter a task you want to insert in:\")\n",
        "    file_new.write(input1 + \"\\n\")\n",
        "  with open(file_path, 'r') as file_new:\n",
        "    line_number = 0\n",
        "    for line in file_new:\n",
        "      line_number += 1\n",
        "      print(f\"Line {line_number}: {line}\")\n",
        "file_path =\"/content/input.txt\"\n",
        "serial_num(file_path)\n"
      ],
      "metadata": {
        "id": "nFkka0yiF-iW",
        "colab": {
          "base_uri": "https://localhost:8080/"
        },
        "outputId": "ad8d2dfc-7f02-4501-dca7-ad4603b15f76"
      },
      "execution_count": null,
      "outputs": [
        {
          "output_type": "stream",
          "name": "stdout",
          "text": [
            "Enter a task you want to insert in:DSA\n",
            "Line 1: 1.Eat\n",
            "\n",
            "Line 2: 2.Code\n",
            "\n",
            "Line 3: 3.Sleep\n",
            "\n",
            "Line 4: 4.RepeatDSA\n",
            "\n",
            "Line 5: DSA\n",
            "\n",
            "Line 6: DSA\n",
            "\n"
          ]
        }
      ]
    },
    {
      "cell_type": "code",
      "source": [
        "def replace_word(file_path, old_word, new_word):\n",
        "  try:\n",
        "    with open(file_path, 'r') as file:\n",
        "      content = file.read()\n",
        "      content = content.replace(old_word, new_word)\n",
        "      with open(file_path, 'w') as file:\n",
        "       file.write(content)\n",
        "\n",
        "  except FileNotFoundError:\n",
        "    print(f\"File '{file_path}' not found.\")\n",
        "\n",
        "file_path = '/content/programming.txt'\n",
        "incorrect_word = 'langauge'\n",
        "correct_word = 'language'\n",
        "\n",
        "replace_word(file_path, incorrect_word, correct_word)"
      ],
      "metadata": {
        "id": "VbK9wjtZuq59"
      },
      "execution_count": null,
      "outputs": []
    },
    {
      "cell_type": "code",
      "source": [
        "#Ayman's problem\n",
        "def new_word(file_path,filein,fileout):\n",
        "  with open(file_path, 'r') as filein:\n",
        "    content = filein.read()\n",
        "\n",
        "    for line in filein:\n",
        "      words = line.split()\n",
        "      new_line=\" \"\n",
        "      if words.endswith('.'):\n",
        "        new_line += words+\"\\n\"\n",
        "      else:\n",
        "        new_line+=words+' '\n",
        "  with open(file_path, 'w') as fileout:\n",
        "      fileout.write(new_line.strip()+'\\n')\n",
        "\n",
        "file_path='/content/programming.txt'\n",
        "\n",
        "\n"
      ],
      "metadata": {
        "id": "5boKDKwWjPZE"
      },
      "execution_count": null,
      "outputs": []
    },
    {
      "cell_type": "code",
      "source": [
        "with open('/content/programming.txt', 'r') as file:\n",
        "  content = file.read()\n",
        "  content = content.lower()\n",
        "  unique_words = set(content.split())\n",
        "  for words in unique_words:\n",
        "    print(words)"
      ],
      "metadata": {
        "colab": {
          "base_uri": "https://localhost:8080/"
        },
        "id": "4hUYN1J3maUZ",
        "outputId": "44695226-4a5f-4e7a-c478-b3ce05e9627a"
      },
      "execution_count": null,
      "outputs": [
        {
          "output_type": "stream",
          "name": "stdout",
          "text": [
            "the\n",
            "is\n",
            "love\n",
            "i\n",
            "language\n",
            "programming\n",
            "python\n"
          ]
        }
      ]
    }
  ]
}