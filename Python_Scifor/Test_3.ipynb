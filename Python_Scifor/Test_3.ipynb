{
  "nbformat": 4,
  "nbformat_minor": 0,
  "metadata": {
    "colab": {
      "provenance": []
    },
    "kernelspec": {
      "name": "python3",
      "display_name": "Python 3"
    },
    "language_info": {
      "name": "python"
    }
  },
  "cells": [
    {
      "cell_type": "code",
      "execution_count": null,
      "metadata": {
        "colab": {
          "base_uri": "https://localhost:8080/"
        },
        "id": "YwOLCinx8aUB",
        "outputId": "cdb05a54-2b29-4449-801e-64badd2368c8"
      },
      "outputs": [
        {
          "output_type": "stream",
          "name": "stdout",
          "text": [
            "ENter the number of Rows: 10\n",
            "Enter the nummbber of columns present: 4\n",
            "There are 40 number of benches present in the class\n"
          ]
        }
      ],
      "source": [
        "#no. of desks program\n",
        "rows=int(input(\"ENter the number of Rows: \"))\n",
        "columns = int(input(\"Enter the nummbber of columns present: \"))\n",
        "\n",
        "Number_of_desks=rows*columns\n",
        "print(f\"There are {Number_of_desks} number of benches present in the class\")\n"
      ]
    },
    {
      "cell_type": "code",
      "source": [
        "#Banquet Hall\n",
        "def Hall(code):\n",
        "  guests=0\n",
        "  for i in range(0,code):\n",
        "    if code==1:\n",
        "     print(\"Door Opened!!\")\n",
        "     print(\"Welcome to the party Have fun!!\")\n",
        "     guests+=1\n",
        "\n",
        "    elif code==0:\n",
        "     print(\"Access Granted!!\")\n",
        "     print(\"Door Opened!!\")\n",
        "\n",
        "    else:\n",
        "     print(\"Access Denied!!\")\n",
        "     print(\"Door Closed!!\")\n",
        "\n",
        "  print(\"Number of guests Entered in the hall: \",guests)\n",
        "\n",
        "code=int(input(\"Enter your Authorization code: \"))\n",
        "Hall(code)"
      ],
      "metadata": {
        "colab": {
          "base_uri": "https://localhost:8080/"
        },
        "id": "ns4SULKl-AxF",
        "outputId": "af6fa60b-9f6d-4899-c4f8-a90e88b6a34c"
      },
      "execution_count": null,
      "outputs": [
        {
          "output_type": "stream",
          "name": "stdout",
          "text": [
            "Enter your Authorization code: 1\n",
            "Door Opened!!\n",
            "Welcome to the party Have fun!!\n",
            "Number of guests Entered in the hall:  1\n"
          ]
        }
      ]
    },
    {
      "cell_type": "code",
      "source": [
        "#Mathew\n",
        "\n",
        "Number=int(input(\"Enter the number greater than 10:  \"))\n",
        "for i in range(1,Number+1):\n",
        "   if i%2==0:\n",
        "    print(f\"{i} is an Even Number\")\n",
        "\n",
        "   else:\n",
        "    print(f\"{i} is an Odd Number\")\n"
      ],
      "metadata": {
        "colab": {
          "base_uri": "https://localhost:8080/"
        },
        "id": "hRihW_EOCl0r",
        "outputId": "ddd10f39-4027-4b35-9507-9689e87923bf"
      },
      "execution_count": null,
      "outputs": [
        {
          "output_type": "stream",
          "name": "stdout",
          "text": [
            "Enter the number greater than 10:  34\n",
            "1 is an Odd Number\n",
            "2 is an Even Number\n",
            "3 is an Odd Number\n",
            "4 is an Even Number\n",
            "5 is an Odd Number\n",
            "6 is an Even Number\n",
            "7 is an Odd Number\n",
            "8 is an Even Number\n",
            "9 is an Odd Number\n",
            "10 is an Even Number\n",
            "11 is an Odd Number\n",
            "12 is an Even Number\n",
            "13 is an Odd Number\n",
            "14 is an Even Number\n",
            "15 is an Odd Number\n",
            "16 is an Even Number\n",
            "17 is an Odd Number\n",
            "18 is an Even Number\n",
            "19 is an Odd Number\n",
            "20 is an Even Number\n",
            "21 is an Odd Number\n",
            "22 is an Even Number\n",
            "23 is an Odd Number\n",
            "24 is an Even Number\n",
            "25 is an Odd Number\n",
            "26 is an Even Number\n",
            "27 is an Odd Number\n",
            "28 is an Even Number\n",
            "29 is an Odd Number\n",
            "30 is an Even Number\n",
            "31 is an Odd Number\n",
            "32 is an Even Number\n",
            "33 is an Odd Number\n",
            "34 is an Even Number\n"
          ]
        }
      ]
    },
    {
      "cell_type": "code",
      "source": [
        "noob=input(\"Enter the Essay: \")\n",
        "words=0\n",
        "def count(words):\n",
        " for i in range(0,len(noob)):\n",
        "  if noob[i]==\" \":\n",
        "     if words==\" \":\n",
        "      words=+1\n",
        "     else:\n",
        "      words+=1\n",
        "     print(f\"Number of words: {words}\")\n",
        "\n",
        "count(words)"
      ],
      "metadata": {
        "colab": {
          "base_uri": "https://localhost:8080/",
          "height": 223
        },
        "id": "lisJT5NoGczP",
        "outputId": "bbd79493-ca04-4b1e-9a64-73cda95c9e19"
      },
      "execution_count": null,
      "outputs": [
        {
          "output_type": "error",
          "ename": "TypeError",
          "evalue": "'str' object is not callable",
          "traceback": [
            "\u001b[0;31m---------------------------------------------------------------------------\u001b[0m",
            "\u001b[0;31mTypeError\u001b[0m                                 Traceback (most recent call last)",
            "\u001b[0;32m<ipython-input-19-7b085d3718fb>\u001b[0m in \u001b[0;36m<cell line: 1>\u001b[0;34m()\u001b[0m\n\u001b[0;32m----> 1\u001b[0;31m \u001b[0mnoob\u001b[0m\u001b[0;34m=\u001b[0m\u001b[0minput\u001b[0m\u001b[0;34m(\u001b[0m\u001b[0;34m\"Enter the Essay: \"\u001b[0m\u001b[0;34m)\u001b[0m\u001b[0;34m\u001b[0m\u001b[0;34m\u001b[0m\u001b[0m\n\u001b[0m\u001b[1;32m      2\u001b[0m \u001b[0mwords\u001b[0m\u001b[0;34m=\u001b[0m\u001b[0;36m0\u001b[0m\u001b[0;34m\u001b[0m\u001b[0;34m\u001b[0m\u001b[0m\n\u001b[1;32m      3\u001b[0m \u001b[0;32mdef\u001b[0m \u001b[0mcount\u001b[0m\u001b[0;34m(\u001b[0m\u001b[0mwords\u001b[0m\u001b[0;34m)\u001b[0m\u001b[0;34m:\u001b[0m\u001b[0;34m\u001b[0m\u001b[0;34m\u001b[0m\u001b[0m\n\u001b[1;32m      4\u001b[0m  \u001b[0;32mfor\u001b[0m \u001b[0mi\u001b[0m \u001b[0;32min\u001b[0m \u001b[0mrange\u001b[0m\u001b[0;34m(\u001b[0m\u001b[0;36m0\u001b[0m\u001b[0;34m,\u001b[0m\u001b[0mlen\u001b[0m\u001b[0;34m(\u001b[0m\u001b[0mnoob\u001b[0m\u001b[0;34m)\u001b[0m\u001b[0;34m)\u001b[0m\u001b[0;34m:\u001b[0m\u001b[0;34m\u001b[0m\u001b[0;34m\u001b[0m\u001b[0m\n\u001b[1;32m      5\u001b[0m   \u001b[0;32mif\u001b[0m \u001b[0mnoob\u001b[0m\u001b[0;34m[\u001b[0m\u001b[0mi\u001b[0m\u001b[0;34m]\u001b[0m\u001b[0;34m==\u001b[0m\u001b[0;34m\" \"\u001b[0m\u001b[0;34m:\u001b[0m\u001b[0;34m\u001b[0m\u001b[0;34m\u001b[0m\u001b[0m\n",
            "\u001b[0;31mTypeError\u001b[0m: 'str' object is not callable"
          ]
        }
      ]
    },
    {
      "cell_type": "code",
      "source": [
        "#priime numbber\n",
        "number1 = int(input(\"Enter the number:\"))\n",
        "if number1>1:\n",
        "  for i in range(2,number1):\n",
        "    if (number1%1)==0:\n",
        "      print(f\"{number1} is a prime number\")\n",
        "    else:\n",
        "      print(f\"{number1} is a composite number\")"
      ],
      "metadata": {
        "colab": {
          "base_uri": "https://localhost:8080/",
          "height": 223
        },
        "id": "cKvsl0CREAX1",
        "outputId": "db37326c-f8d1-4172-8606-57165c764c53"
      },
      "execution_count": null,
      "outputs": [
        {
          "output_type": "error",
          "ename": "TypeError",
          "evalue": "'str' object is not callable",
          "traceback": [
            "\u001b[0;31m---------------------------------------------------------------------------\u001b[0m",
            "\u001b[0;31mTypeError\u001b[0m                                 Traceback (most recent call last)",
            "\u001b[0;32m<ipython-input-11-51ae81419d0c>\u001b[0m in \u001b[0;36m<cell line: 2>\u001b[0;34m()\u001b[0m\n\u001b[1;32m      1\u001b[0m \u001b[0;31m#priime numbber\u001b[0m\u001b[0;34m\u001b[0m\u001b[0;34m\u001b[0m\u001b[0m\n\u001b[0;32m----> 2\u001b[0;31m \u001b[0mnumber1\u001b[0m \u001b[0;34m=\u001b[0m \u001b[0mint\u001b[0m\u001b[0;34m(\u001b[0m\u001b[0minput\u001b[0m\u001b[0;34m(\u001b[0m\u001b[0;34m\"Enter the number:\"\u001b[0m\u001b[0;34m)\u001b[0m\u001b[0;34m)\u001b[0m\u001b[0;34m\u001b[0m\u001b[0;34m\u001b[0m\u001b[0m\n\u001b[0m\u001b[1;32m      3\u001b[0m \u001b[0;32mif\u001b[0m \u001b[0mnumber1\u001b[0m\u001b[0;34m>\u001b[0m\u001b[0;36m1\u001b[0m\u001b[0;34m:\u001b[0m\u001b[0;34m\u001b[0m\u001b[0;34m\u001b[0m\u001b[0m\n\u001b[1;32m      4\u001b[0m   \u001b[0;32mfor\u001b[0m \u001b[0mi\u001b[0m \u001b[0;32min\u001b[0m \u001b[0mrange\u001b[0m\u001b[0;34m(\u001b[0m\u001b[0;36m2\u001b[0m\u001b[0;34m,\u001b[0m\u001b[0mnumber1\u001b[0m\u001b[0;34m)\u001b[0m\u001b[0;34m:\u001b[0m\u001b[0;34m\u001b[0m\u001b[0;34m\u001b[0m\u001b[0m\n\u001b[1;32m      5\u001b[0m     \u001b[0;32mif\u001b[0m \u001b[0;34m(\u001b[0m\u001b[0mnumber1\u001b[0m\u001b[0;34m%\u001b[0m\u001b[0;36m1\u001b[0m\u001b[0;34m)\u001b[0m\u001b[0;34m==\u001b[0m\u001b[0;36m0\u001b[0m\u001b[0;34m:\u001b[0m\u001b[0;34m\u001b[0m\u001b[0;34m\u001b[0m\u001b[0m\n",
            "\u001b[0;31mTypeError\u001b[0m: 'str' object is not callable"
          ]
        }
      ]
    }
  ]
}