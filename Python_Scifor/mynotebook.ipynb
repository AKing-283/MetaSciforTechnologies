{
 "cells": [
  {
   "cell_type": "code",
   "execution_count": 34,
   "metadata": {},
   "outputs": [],
   "source": [
    "import pandas as pd\n",
    "import numpy as np\n",
    "import matplotlib.pyplot as plt\n",
    "import seaborn as sns\n"
   ]
  },
  {
   "cell_type": "code",
   "execution_count": 16,
   "metadata": {},
   "outputs": [],
   "source": [
    "df=pd.read_csv('/Users/pushpakreddy/scifor/country_vaccinations.csv')"
   ]
  },
  {
   "cell_type": "code",
   "execution_count": 17,
   "metadata": {},
   "outputs": [
    {
     "name": "stdout",
     "output_type": "stream",
     "text": [
      "       country iso_code        date  total_vaccinations  people_vaccinated  \\\n",
      "0  Afghanistan      AFG  2021-02-22                 0.0                0.0   \n",
      "1  Afghanistan      AFG  2021-02-23                 NaN                NaN   \n",
      "2  Afghanistan      AFG  2021-02-24                 NaN                NaN   \n",
      "3  Afghanistan      AFG  2021-02-25                 NaN                NaN   \n",
      "4  Afghanistan      AFG  2021-02-26                 NaN                NaN   \n",
      "\n",
      "   people_fully_vaccinated  daily_vaccinations_raw  daily_vaccinations  \\\n",
      "0                      NaN                     NaN                 NaN   \n",
      "1                      NaN                     NaN              1367.0   \n",
      "2                      NaN                     NaN              1367.0   \n",
      "3                      NaN                     NaN              1367.0   \n",
      "4                      NaN                     NaN              1367.0   \n",
      "\n",
      "   total_vaccinations_per_hundred  people_vaccinated_per_hundred  \\\n",
      "0                             0.0                            0.0   \n",
      "1                             NaN                            NaN   \n",
      "2                             NaN                            NaN   \n",
      "3                             NaN                            NaN   \n",
      "4                             NaN                            NaN   \n",
      "\n",
      "   people_fully_vaccinated_per_hundred  daily_vaccinations_per_million  \\\n",
      "0                                  NaN                             NaN   \n",
      "1                                  NaN                            35.0   \n",
      "2                                  NaN                            35.0   \n",
      "3                                  NaN                            35.0   \n",
      "4                                  NaN                            35.0   \n",
      "\n",
      "                                          vaccines                source_name  \\\n",
      "0  BBIBP-CorV, Oxford/AstraZeneca, Pfizer/BioNTech  World Health Organization   \n",
      "1  BBIBP-CorV, Oxford/AstraZeneca, Pfizer/BioNTech  World Health Organization   \n",
      "2  BBIBP-CorV, Oxford/AstraZeneca, Pfizer/BioNTech  World Health Organization   \n",
      "3  BBIBP-CorV, Oxford/AstraZeneca, Pfizer/BioNTech  World Health Organization   \n",
      "4  BBIBP-CorV, Oxford/AstraZeneca, Pfizer/BioNTech  World Health Organization   \n",
      "\n",
      "             source_website  \n",
      "0  https://covid19.who.int/  \n",
      "1  https://covid19.who.int/  \n",
      "2  https://covid19.who.int/  \n",
      "3  https://covid19.who.int/  \n",
      "4  https://covid19.who.int/  \n"
     ]
    }
   ],
   "source": [
    "print(df.head())"
   ]
  },
  {
   "cell_type": "code",
   "execution_count": 18,
   "metadata": {},
   "outputs": [
    {
     "name": "stdout",
     "output_type": "stream",
     "text": [
      "<class 'pandas.core.frame.DataFrame'>\n",
      "RangeIndex: 25862 entries, 0 to 25861\n",
      "Data columns (total 15 columns):\n",
      " #   Column                               Non-Null Count  Dtype  \n",
      "---  ------                               --------------  -----  \n",
      " 0   country                              25862 non-null  object \n",
      " 1   iso_code                             25862 non-null  object \n",
      " 2   date                                 25862 non-null  object \n",
      " 3   total_vaccinations                   14522 non-null  float64\n",
      " 4   people_vaccinated                    13762 non-null  float64\n",
      " 5   people_fully_vaccinated              11041 non-null  float64\n",
      " 6   daily_vaccinations_raw               12003 non-null  float64\n",
      " 7   daily_vaccinations                   25595 non-null  float64\n",
      " 8   total_vaccinations_per_hundred       14522 non-null  float64\n",
      " 9   people_vaccinated_per_hundred        13762 non-null  float64\n",
      " 10  people_fully_vaccinated_per_hundred  11041 non-null  float64\n",
      " 11  daily_vaccinations_per_million       25595 non-null  float64\n",
      " 12  vaccines                             25862 non-null  object \n",
      " 13  source_name                          25862 non-null  object \n",
      " 14  source_website                       25862 non-null  object \n",
      "dtypes: float64(9), object(6)\n",
      "memory usage: 3.0+ MB\n",
      "None\n"
     ]
    }
   ],
   "source": [
    "print(df.info())"
   ]
  },
  {
   "cell_type": "code",
   "execution_count": 20,
   "metadata": {},
   "outputs": [
    {
     "name": "stdout",
     "output_type": "stream",
     "text": [
      "       total_vaccinations  people_vaccinated  people_fully_vaccinated  \\\n",
      "count        1.452200e+04       1.376200e+04             1.104100e+04   \n",
      "mean         9.139252e+06       4.737802e+06             2.681353e+06   \n",
      "std          4.592776e+07       1.797156e+07             1.093032e+07   \n",
      "min          0.000000e+00       0.000000e+00             1.000000e+00   \n",
      "25%          1.005620e+05       7.876700e+04             3.719700e+04   \n",
      "50%          7.007560e+05       5.149065e+05             2.834740e+05   \n",
      "75%          3.241681e+06       2.139073e+06             1.192415e+06   \n",
      "max          1.029223e+09       6.220000e+08             2.232990e+08   \n",
      "\n",
      "       daily_vaccinations_raw  daily_vaccinations  \\\n",
      "count            1.200300e+04        2.559500e+04   \n",
      "mean             2.012910e+05        1.020430e+05   \n",
      "std              1.122962e+06        7.304361e+05   \n",
      "min              0.000000e+00        0.000000e+00   \n",
      "25%              3.967500e+03        8.400000e+02   \n",
      "50%              1.988600e+04        6.263000e+03   \n",
      "75%              8.257600e+04        3.337300e+04   \n",
      "max              2.360500e+07        2.029871e+07   \n",
      "\n",
      "       total_vaccinations_per_hundred  people_vaccinated_per_hundred  \\\n",
      "count                    14522.000000                   13762.000000   \n",
      "mean                        24.162602                      16.291051   \n",
      "std                         30.690367                      18.839369   \n",
      "min                          0.000000                       0.000000   \n",
      "25%                          2.360000                       2.052500   \n",
      "50%                         11.410000                       8.520000   \n",
      "75%                         34.650000                      25.207500   \n",
      "max                        231.010000                     116.150000   \n",
      "\n",
      "       people_fully_vaccinated_per_hundred  daily_vaccinations_per_million  \n",
      "count                         11041.000000                    25595.000000  \n",
      "mean                              9.712350                     3312.476421  \n",
      "std                              13.466102                     4512.443697  \n",
      "min                               0.000000                        0.000000  \n",
      "25%                               1.020000                      389.000000  \n",
      "50%                               4.190000                     1726.000000  \n",
      "75%                              12.690000                     4874.000000  \n",
      "max                             114.860000                   118759.000000  \n"
     ]
    }
   ],
   "source": [
    "print(df.describe())"
   ]
  },
  {
   "cell_type": "code",
   "execution_count": 22,
   "metadata": {},
   "outputs": [
    {
     "name": "stdout",
     "output_type": "stream",
     "text": [
      "country                                    0\n",
      "iso_code                                   0\n",
      "date                                       0\n",
      "total_vaccinations                     11340\n",
      "people_vaccinated                      12100\n",
      "people_fully_vaccinated                14821\n",
      "daily_vaccinations_raw                 13859\n",
      "daily_vaccinations                       267\n",
      "total_vaccinations_per_hundred         11340\n",
      "people_vaccinated_per_hundred          12100\n",
      "people_fully_vaccinated_per_hundred    14821\n",
      "daily_vaccinations_per_million           267\n",
      "vaccines                                   0\n",
      "source_name                                0\n",
      "source_website                             0\n",
      "dtype: int64\n"
     ]
    }
   ],
   "source": [
    "print(df.isnull().sum())"
   ]
  },
  {
   "cell_type": "code",
   "execution_count": 23,
   "metadata": {},
   "outputs": [],
   "source": [
    "df.dropna(inplace=True)"
   ]
  },
  {
   "cell_type": "code",
   "execution_count": 24,
   "metadata": {},
   "outputs": [],
   "source": [
    "df.fillna(0,inplace=True)"
   ]
  },
  {
   "cell_type": "code",
   "execution_count": 25,
   "metadata": {},
   "outputs": [],
   "source": [
    "country_vaccine = df.groupby([\"country\", \"iso_code\", \"vaccines\"])[\n",
    "    ['total_vaccinations', \n",
    "     'total_vaccinations_per_hundred',\n",
    "     'daily_vaccinations',\n",
    "     'daily_vaccinations_per_million',\n",
    "     'people_vaccinated',\n",
    "     'people_vaccinated_per_hundred',\n",
    "     'people_fully_vaccinated',\n",
    "     'people_fully_vaccinated_per_hundred']\n",
    "].max().reset_index()"
   ]
  },
  {
   "cell_type": "code",
   "execution_count": 26,
   "metadata": {},
   "outputs": [
    {
     "name": "stdout",
     "output_type": "stream",
     "text": [
      "               Country iso_code  \\\n",
      "0          Afghanistan      AFG   \n",
      "1              Albania      ALB   \n",
      "2              Andorra      AND   \n",
      "3  Antigua and Barbuda      ATG   \n",
      "4            Argentina      ARG   \n",
      "\n",
      "                                            Vaccines  Total vaccinations  \\\n",
      "0    BBIBP-CorV, Oxford/AstraZeneca, Pfizer/BioNTech            630305.0   \n",
      "1  Oxford/AstraZeneca, Pfizer/BioNTech, Sinovac, ...            862628.0   \n",
      "2                Oxford/AstraZeneca, Pfizer/BioNTech             15269.0   \n",
      "3                                 Oxford/AstraZeneca             57264.0   \n",
      "4   Oxford/AstraZeneca, Sinopharm/Beijing, Sputnik V          18085389.0   \n",
      "\n",
      "   Percent  Daily vaccinations  Daily vaccinations per million  \\\n",
      "0     1.62              6487.0                           167.0   \n",
      "1    29.98             12160.0                          4225.0   \n",
      "2    19.76               573.0                          7416.0   \n",
      "3    58.48              1098.0                         11212.0   \n",
      "4    40.02            338889.0                          7498.0   \n",
      "\n",
      "   People vaccinated  People vaccinated per hundred  People fully vaccinated  \\\n",
      "0           481800.0                           1.24                 148505.0   \n",
      "1           511175.0                          17.76                 351453.0   \n",
      "2             9781.0                          12.66                   4484.0   \n",
      "3            34368.0                          35.10                  22896.0   \n",
      "4         14397649.0                          31.86                3687740.0   \n",
      "\n",
      "   People fully vaccinated percent  \n",
      "0                             0.38  \n",
      "1                            12.21  \n",
      "2                             5.80  \n",
      "3                            23.38  \n",
      "4                             8.16  \n"
     ]
    }
   ],
   "source": [
    "country_vaccine.columns = [\"Country\", \"iso_code\", \"Vaccines\", \"Total vaccinations\", \"Percent\", \n",
    "                           \"Daily vaccinations\", \"Daily vaccinations per million\", \"People vaccinated\", \n",
    "                           \"People vaccinated per hundred\", \"People fully vaccinated\", \n",
    "                           \"People fully vaccinated percent\"]\n",
    "\n",
    "print(country_vaccine.head())"
   ]
  },
  {
   "cell_type": "code",
   "execution_count": 27,
   "metadata": {},
   "outputs": [
    {
     "name": "stdout",
     "output_type": "stream",
     "text": [
      "            Country  Total vaccinations\n",
      "23            China         845299000.0\n",
      "131   United States         317966408.0\n",
      "55            India         274286599.0\n",
      "15           Brazil          86960570.0\n",
      "130  United Kingdom          74577678.0\n",
      "44          Germany          66454623.0\n",
      "36          England          62636714.0\n",
      "40           France          48213297.0\n",
      "61            Italy          46016709.0\n",
      "126          Turkey          42613378.0\n"
     ]
    }
   ],
   "source": [
    "top_vaccinated_countries = country_vaccine.sort_values(by='Total vaccinations', ascending=False).head(10)\n",
    "\n",
    "print(top_vaccinated_countries[['Country', 'Total vaccinations']])"
   ]
  },
  {
   "cell_type": "code",
   "execution_count": 28,
   "metadata": {},
   "outputs": [
    {
     "name": "stdout",
     "output_type": "stream",
     "text": [
      "Global Total Vaccinations:  89006289981.0\n"
     ]
    }
   ],
   "source": [
    "global_total_vaccinations = df['total_vaccinations'].sum()\n",
    "print(\"Global Total Vaccinations: \", global_total_vaccinations)"
   ]
  },
  {
   "cell_type": "code",
   "execution_count": 30,
   "metadata": {},
   "outputs": [],
   "source": [
    "df['date']=pd.to_datetime(df['date'])"
   ]
  },
  {
   "cell_type": "code",
   "execution_count": 31,
   "metadata": {},
   "outputs": [],
   "source": [
    "df.set_index('date',inplace=True)"
   ]
  },
  {
   "cell_type": "code",
   "execution_count": 32,
   "metadata": {},
   "outputs": [
    {
     "name": "stdout",
     "output_type": "stream",
     "text": [
      "date\n",
      "2020-12-31    4.023425e+06\n",
      "2021-01-31    8.250616e+08\n",
      "2021-02-28    3.603466e+09\n",
      "2021-03-31    9.824732e+09\n",
      "2021-04-30    1.846450e+10\n",
      "2021-05-31    2.942998e+10\n",
      "2021-06-30    2.685453e+10\n",
      "Freq: ME, Name: total_vaccinations, dtype: float64\n"
     ]
    },
    {
     "name": "stderr",
     "output_type": "stream",
     "text": [
      "/var/folders/3p/zqqw_8597cqffx2wqp9cylyc0000gr/T/ipykernel_1416/4284013181.py:1: FutureWarning: 'M' is deprecated and will be removed in a future version, please use 'ME' instead.\n",
      "  monthly_vaccination = df['total_vaccinations'].resample('M').sum()\n"
     ]
    }
   ],
   "source": [
    "monthly_vaccination = df['total_vaccinations'].resample('M').sum()\n",
    "\n",
    "print(monthly_vaccination)"
   ]
  },
  {
   "cell_type": "code",
   "execution_count": 37,
   "metadata": {},
   "outputs": [
    {
     "data": {
      "image/png": "[encoded data removed]",
      "text/plain": [
       "<Figure size 900x700 with 1 Axes>"
      ]
     },
     "metadata": {},
     "output_type": "display_data"
    }
   ],
   "source": [
    "plt.figure(figsize=(9, 7))\n",
    "sns.barplot(x='Total vaccinations', y='Country', data=top_vaccinated_countries)\n",
    "plt.title(\"Top 10 Countries by Total Vaccinations\")\n",
    "plt.show()"
   ]
  }
 ],
 "metadata": {
  "kernelspec": {
   "display_name": "Python 3",
   "language": "python",
   "name": "python3"
  },
  "language_info": {
   "codemirror_mode": {
    "name": "ipython",
    "version": 3
   },
   "file_extension": ".py",
   "mimetype": "text/x-python",
   "name": "python",
   "nbconvert_exporter": "python",
   "pygments_lexer": "ipython3",
   "version": "3.12.0"
  }
 },
 "nbformat": 4,
 "nbformat_minor": 2
}
