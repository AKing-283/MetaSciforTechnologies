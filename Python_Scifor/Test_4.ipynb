{
  "cells": [
    {
      "cell_type": "code",
      "execution_count": null,
      "metadata": {
        "colab": {
          "base_uri": "https://localhost:8080/"
        },
        "id": "pay04wisdhIb",
        "outputId": "aa5e3cdc-1467-4b61-83a4-9f3b5314e737"
      },
      "outputs": [
        {
          "name": "stdout",
          "output_type": "stream",
          "text": [
            "🍬🍬Candy Vending Machine🍬🍬\n",
            "Enter the Numer of candies: 24\n",
            "ENter the number of candies required by the user: 12\n",
            "Total candies loaded: 24\n",
            "The amount of candies you need to pay is: $12\n",
            "Enter the amount user paid: 10\n",
            "Entered Wrong Amount!! Try Again \n"
          ]
        }
      ],
      "source": [
        "print(\"🍬🍬Candy Vending Machine🍬🍬\")\n",
        "total_candies_to_load = int(input(\"Enter the Numer of candies: \"))\n",
        "numberOfCandiesUserWants = int(input(\"ENter the number of candies required by the user: \"))\n",
        "print(f\"Total candies loaded: {total_candies_to_load}\")\n",
        "price_of_candies = 1\n",
        "\n",
        "while True:\n",
        " if numberOfCandiesUserWants < 0 or numberOfCandiesUserWants > total_candies_to_load:\n",
        "  print(\"You have entered number of candies which is either zero or less than zero and is not possible to disperse\\n please try again or visit once again Thanks for shopping with us!!!\\n we will be happy to serve you once again”\")\n",
        " if numberOfCandiesUserWants>=1 :\n",
        "  print(f\"The amount of candies you need to pay is: ${price_of_candies*numberOfCandiesUserWants}\")\n",
        "  break\n",
        "\n",
        "cost = price_of_candies*numberOfCandiesUserWants\n",
        "if numberOfCandiesUserWants ==0:\n",
        "  print(\"Thanks for Visiting! \")\n",
        "\n",
        "\n",
        "while True:\n",
        " UserMoney = float(input(\"Enter the amount user paid: \"))\n",
        " if UserMoney == cost:\n",
        "  print(\"Thanks for shopping with us!!!\")\n",
        "  break\n",
        " else:\n",
        "  print(\"Entered Wrong Amount!! Try Again \")\n",
        "  break\n",
        "\n"
      ]
    },
    {
      "cell_type": "code",
      "execution_count": null,
      "metadata": {
        "colab": {
          "base_uri": "https://localhost:8080/"
        },
        "id": "iX8hnJyEjTJA",
        "outputId": "d9f12b87-85d8-4489-fc81-c69fc6c10ac3"
      },
      "outputs": [
        {
          "name": "stdout",
          "output_type": "stream",
          "text": [
            "Enter thhe number greater than 10: 24\n",
            "1 is an Odd Number.\n",
            "2 is an Even Number.\n",
            "3 is an Odd Number.\n",
            "4 is an Even Number.\n",
            "5 is an Odd Number.\n",
            "6 is an Even Number.\n",
            "7 is an Odd Number.\n",
            "8 is an Even Number.\n",
            "9 is an Odd Number.\n",
            "10 is an Even Number.\n",
            "11 is an Odd Number.\n",
            "12 is an Even Number.\n",
            "13 is an Odd Number.\n",
            "14 is an Even Number.\n",
            "15 is an Odd Number.\n",
            "16 is an Even Number.\n",
            "17 is an Odd Number.\n",
            "18 is an Even Number.\n",
            "19 is an Odd Number.\n",
            "20 is an Even Number.\n",
            "21 is an Odd Number.\n",
            "22 is an Even Number.\n",
            "23 is an Odd Number.\n"
          ]
        }
      ],
      "source": [
        "Number=int(input(\"Enter thhe number greater than 10: \"))\n",
        "for i in range(1,Number):\n",
        " if i%2==0:\n",
        "  print(f\"{i} is an Even Number.\")\n",
        " elif i%2!=0:\n",
        "  print(f\"{i} is an Odd Number.\")"
      ]
    },
    {
      "cell_type": "code",
      "execution_count": null,
      "metadata": {
        "colab": {
          "base_uri": "https://localhost:8080/"
        },
        "id": "QfqBTykvkYnc",
        "outputId": "eed454a8-c2d5-4508-aa94-7cced22a972a"
      },
      "outputs": [
        {
          "name": "stdout",
          "output_type": "stream",
          "text": [
            "<--------Simple Form-------->\n",
            "Enter your name: puspak\n",
            "Enter your password: jrfbwekjfb121\n",
            "Entered password is Invalid\n"
          ]
        }
      ],
      "source": [
        "def password1(password):\n",
        "  return all(char.isalpha() for char in password)\n",
        "\n",
        "print(\"<--------Simple Form-------->\")\n",
        "Name=input(\"Enter your name: \")\n",
        "password=input(\"Enter your password: \")\n",
        "if password1(password):\n",
        "  print(\"Entered password is valid!!\")\n",
        "else:\n",
        "  print(\"Entered password is Invalid\")"
      ]
    },
    {
      "cell_type": "code",
      "execution_count": null,
      "metadata": {
        "colab": {
          "base_uri": "https://localhost:8080/"
        },
        "id": "i_eDhshfnap0",
        "outputId": "df728812-5b73-44cc-ddae-38e72787921c"
      },
      "outputs": [
        {
          "name": "stdout",
          "output_type": "stream",
          "text": [
            "Enter the year: 2024\n",
            "2024 is a leap year\n"
          ]
        }
      ],
      "source": [
        "year = int(input(\"Enter the year: \"))\n",
        "def year1(year):\n",
        " return (year%4==0 and year%100!=0) or year%400==0\n",
        "\n",
        "if year1(year):\n",
        "  print(f\"{year} is a leap year\")\n",
        "else:\n",
        "  print(f\"{year}is not leap year\")"
      ]
    },
    {
      "cell_type": "code",
      "execution_count": null,
      "metadata": {
        "colab": {
          "background_save": true,
          "base_uri": "https://localhost:8080/"
        },
        "id": "5RwFK-xXpYuv",
        "outputId": "b7cb28bb-50a2-46e5-ea24-def29f889225"
      },
      "outputs": [
        {
          "name": "stdout",
          "output_type": "stream",
          "text": [
            "('Uppercase characters: ', 0, 'Lowercase characters: ', 8, 'Digits: ', 2, 'Symbols: ', 1)\n"
          ]
        }
      ],
      "source": [
        "char1 = input(\"Enter the character: \")\n",
        "char1.replace(\" \",\"\")\n",
        "\n",
        "def counts(char1):\n",
        "  up=0\n",
        "  low=0\n",
        "  digits1=0\n",
        "  symbols1=0\n",
        "  for char in char1:\n",
        "   if char.isupper():\n",
        "    up+=1\n",
        "   elif char.islower():\n",
        "    low+=1\n",
        "   elif char.isdigit():\n",
        "    digits1+=1\n",
        "   else:\n",
        "    symbols1+=1\n",
        "\n",
        "  return (\"Uppercase characters: \",up, \"Lowercase characters: \",low,\"Digits: \",digits1,\"Symbols: \",symbols1)\n",
        "\n",
        "print(counts(char1))\n",
        "\n",
        "\n",
        "\n",
        "\n"
      ]
    }
  ],
  "metadata": {
    "colab": {
      "provenance": []
    },
    "kernelspec": {
      "display_name": "Python 3",
      "name": "python3"
    },
    "language_info": {
      "name": "python"
    }
  },
  "nbformat": 4,
  "nbformat_minor": 0
}