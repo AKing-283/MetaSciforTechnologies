{
  "nbformat": 4,
  "nbformat_minor": 0,
  "metadata": {
    "colab": {
      "provenance": []
    },
    "kernelspec": {
      "name": "python3",
      "display_name": "Python 3"
    },
    "language_info": {
      "name": "python"
    }
  },
  "cells": [
    {
      "cell_type": "code",
      "execution_count": null,
      "metadata": {
        "colab": {
          "base_uri": "https://localhost:8080/"
        },
        "id": "yw5_v3alN8Or",
        "outputId": "18101a87-db5e-42d9-a834-85ca02d4a9a2"
      },
      "outputs": [
        {
          "output_type": "execute_result",
          "data": {
            "text/plain": [
              "100"
            ]
          },
          "metadata": {},
          "execution_count": 7
        }
      ],
      "source": [
        "#calculator using single inheritance\n",
        "import math\n",
        "class calc():\n",
        "  def __init__(self,a,b):\n",
        "    self.a = a\n",
        "    self.b = b\n",
        "  def add(self):\n",
        "    return self.a+self.b\n",
        "  def sub(self):\n",
        "    return self.a-self.b\n",
        "  def mul(self):\n",
        "    return self.a*self.b\n",
        "  def div(self):\n",
        "      return self.a/self.b\n",
        "\n",
        "class AdvCalc(calc):\n",
        "  def mod(self):\n",
        "    return self.a%self.b\n",
        "  def flr(self):\n",
        "    return self.a//self.b\n",
        "  def pow(self):\n",
        "    return self.a**self.b\n",
        "  def sqrt(self):\n",
        "    return self.a**0.5\n",
        "  def log(self):\n",
        "    return math.log(self.a)\n",
        "\n",
        "\n",
        "obj = AdvCalc(10,2)\n",
        "\"\"\"obj.add()\n",
        "obj.sub()\n",
        "obj.mul()\n",
        "obj.div()\n",
        "obj.mod()\n",
        "obj.flr()\"\"\"\n",
        "obj.pow()\n",
        "#obj.sqrt()\n",
        "#obj.log()\n",
        "\n"
      ]
    },
    {
      "cell_type": "code",
      "source": [
        "class sum_100(): #Sum. of 100 numbers using single inheritance\n",
        "  def __init__(self,num):\n",
        "    self.num = num\n",
        "    self.sum = 0\n",
        "\n",
        "  def sum1(self):\n",
        "    for i in range(1,101):\n",
        "      self.sum += i\n",
        "    print(self.sum)\n",
        "\n",
        "class sum_new(sum_100):\n",
        "  def __init__(self,num):\n",
        "    super().__init__(num)\n",
        "\n",
        "\n",
        "obj = sum_new(100)\n",
        "obj.sum1()"
      ],
      "metadata": {
        "colab": {
          "base_uri": "https://localhost:8080/"
        },
        "id": "jlRl4K4TQRw7",
        "outputId": "e8ea9f76-8f55-4926-bb64-36099c49c861"
      },
      "execution_count": null,
      "outputs": [
        {
          "output_type": "stream",
          "name": "stdout",
          "text": [
            "5050\n"
          ]
        }
      ]
    },
    {
      "cell_type": "code",
      "source": [],
      "metadata": {
        "id": "0Z9go2lwRJlz"
      },
      "execution_count": null,
      "outputs": []
    }
  ]
}