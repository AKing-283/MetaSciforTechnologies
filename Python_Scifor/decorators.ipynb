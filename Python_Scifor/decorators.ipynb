{
  "nbformat": 4,
  "nbformat_minor": 0,
  "metadata": {
    "colab": {
      "provenance": []
    },
    "kernelspec": {
      "name": "python3",
      "display_name": "Python 3"
    },
    "language_info": {
      "name": "python"
    }
  },
  "cells": [
    {
      "cell_type": "code",
      "execution_count": null,
      "metadata": {
        "colab": {
          "base_uri": "https://localhost:8080/"
        },
        "id": "bSK-ViN2Huby",
        "outputId": "5cd43f66-8da4-4157-fe6f-656475238a23"
      },
      "outputs": [
        {
          "output_type": "stream",
          "name": "stdout",
          "text": [
            "Color of this vehicle is Blue\n"
          ]
        }
      ],
      "source": [
        "#Monday's question!!\n",
        "class Vehicles():\n",
        "  def __init__(self,color,sound):\n",
        "    self.color = color\n",
        "    self.sound = sound\n",
        "\n",
        "  def new_color(self):\n",
        "    print(f\"Color of the vehicle is {self.color}\")\n",
        "\n",
        "class Car(Vehicles):\n",
        "  def __init__(self,sound,color):\n",
        "    self.sound = sound\n",
        "    self.color = color\n",
        "\n",
        "  def new_color(self):\n",
        "    print(f\"Color of this vehicle is {self.color}\")\n",
        "\n",
        "\n",
        "obj = Car(\"Honk\",\"Blue\")\n",
        "obj.new_color()"
      ]
    },
    {
      "cell_type": "code",
      "source": [
        "def mydecorator(function):\n",
        "  def wrap():\n",
        "    print(\"Whats up\")\n",
        "    function()\n",
        "    print(\"I am also fine Thank you\")\n",
        "  return wrap\n",
        "\n",
        "@mydecorator\n",
        "def myfunction():\n",
        "  print(\"I am fine wbu?\")\n",
        "\n",
        "myfunction()"
      ],
      "metadata": {
        "id": "TVfr_lhKK0OX",
        "colab": {
          "base_uri": "https://localhost:8080/"
        },
        "outputId": "dcee9fd4-9087-4983-a350-dce4ab3e682c"
      },
      "execution_count": null,
      "outputs": [
        {
          "output_type": "stream",
          "name": "stdout",
          "text": [
            "Whats up\n",
            "I am fine wbu?\n",
            "I am also fine Thank you\n"
          ]
        }
      ]
    },
    {
      "cell_type": "code",
      "source": [],
      "metadata": {
        "id": "ydSHe8GJPwp1"
      },
      "execution_count": null,
      "outputs": []
    }
  ]
}