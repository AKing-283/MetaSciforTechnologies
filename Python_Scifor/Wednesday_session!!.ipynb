{
  "nbformat": 4,
  "nbformat_minor": 0,
  "metadata": {
    "colab": {
      "provenance": []
    },
    "kernelspec": {
      "name": "python3",
      "display_name": "Python 3"
    },
    "language_info": {
      "name": "python"
    }
  },
  "cells": [
    {
      "cell_type": "code",
      "execution_count": null,
      "metadata": {
        "colab": {
          "base_uri": "https://localhost:8080/"
        },
        "id": "9QNyE0APNNe_",
        "outputId": "ba32118b-5e1f-4278-9176-492091f0479a"
      },
      "outputs": [
        {
          "output_type": "stream",
          "name": "stdout",
          "text": [
            "Enter a number: 33\n",
            "33 is not a prime number\n"
          ]
        }
      ],
      "source": [
        "def prime_num():\n",
        "  num = int(input(\"Enter a number: \"))\n",
        "  if num > 1:\n",
        "    for i in range(2, num): #1 is neithher prime nor opposite\n",
        "      if (num % i) == 0:\n",
        "        print(num, \"is not a prime number\")\n",
        "        break\n",
        "    else:\n",
        "      print(num, \"is a prime number\")\n",
        "\n",
        "prime_num()"
      ]
    },
    {
      "cell_type": "code",
      "source": [
        "prime_num()"
      ],
      "metadata": {
        "colab": {
          "base_uri": "https://localhost:8080/"
        },
        "id": "WygJS4vPTP5O",
        "outputId": "be9ba474-52f5-4452-cce8-ead902b7edb8"
      },
      "execution_count": null,
      "outputs": [
        {
          "output_type": "stream",
          "name": "stdout",
          "text": [
            "Enter a number: 3\n",
            "3 is a prime number\n"
          ]
        }
      ]
    },
    {
      "cell_type": "code",
      "source": [
        "def count_locals():\n",
        "  global x, y, z #x,y and z are declared globally\n",
        "  x = 1\n",
        "  y = 2\n",
        "  z = 3\n",
        "  a = \"Raju\"\n",
        "  print(len(locals()))\n",
        "\n",
        "count_locals()"
      ],
      "metadata": {
        "colab": {
          "base_uri": "https://localhost:8080/"
        },
        "id": "H3rHWS6JNxtO",
        "outputId": "e47731eb-4fc1-4fd1-c023-b93c7e366155"
      },
      "execution_count": null,
      "outputs": [
        {
          "output_type": "stream",
          "name": "stdout",
          "text": [
            "1\n"
          ]
        }
      ]
    },
    {
      "cell_type": "code",
      "source": [
        "def count_locals():\n",
        "  #global x, y, z\n",
        "  x = 1\n",
        "  y = 2\n",
        "  z = 3\n",
        "  a = \"Raju\"\n",
        "  print(len(locals()))\n",
        "\n",
        "count_locals()"
      ],
      "metadata": {
        "colab": {
          "base_uri": "https://localhost:8080/"
        },
        "id": "Vuzr39gMPRpq",
        "outputId": "87fdb244-c70f-4e5c-bd20-fd5e7a67fa2a"
      },
      "execution_count": null,
      "outputs": [
        {
          "output_type": "stream",
          "name": "stdout",
          "text": [
            "4\n"
          ]
        }
      ]
    },
    {
      "cell_type": "code",
      "source": [
        "user_name = \"\"\n",
        "user_age = 0\n",
        "user_interests = []\n",
        "\n",
        "while True:\n",
        "  user_message = input(\"You: \")\n",
        "\n",
        "\n",
        "  if user_message.lower() == \"quit\":\n",
        "    break\n",
        "\n",
        "  if not user_name:\n",
        "    user_name = input(\"What's your name? \")\n",
        "    print(f\"Chatbot:Hi {user_name}, nice to meet you!\")\n",
        "\n",
        "  if not user_age:\n",
        "      user_age = int(input(f\"How old are you, {user_name}? \"))\n",
        "      print(f\"Chatbot:Cool! So you're {user_age} years old.\")\n",
        "  elif not user_interests:\n",
        "    print(f\"Alright {user_name}, tell me about yourself. What are you interested in?\")\n",
        "    while True:\n",
        "      interest = input(\"Enter an interest (or 'done' to finish): \")\n",
        "      if interest.lower() == \"done\":\n",
        "        break\n",
        "      user_interests.append(interest)\n",
        "    print(f\"Chatbot:Cool! So you like {', '.join(user_interests)}?\")\n",
        "  else:\n",
        "    print(f\"Chatbot:Cool! So you're {user_age} years old and you like {', '.join(user_interests)}.\")\n",
        "    if \"how are you\" in user_message.lower():\n",
        "      print(\"Chatbot: I'm doing well, thanks for asking! How about you?\")\n",
        "    elif \"weather\" in user_message.lower():\n",
        "      print(\"Chatbot: Hmm, I can't check the weather yet, but it looks like a nice day. What do you plan to do?\")\n",
        "    elif any(interest in user_message.lower() for interest in user_interests):\n",
        "      print(f\"Chatbot: That's great! I see you're interested in {user_message.split()[0]}. Tell me more about {user_message.split()[0]}.\")\n",
        "    else:\n",
        "      print(\"Chatbot: Sorry! I didn't get it what you are saying??\")\n",
        "\n",
        "print(f\"Chatbot: Bye {user_name}, have a good day!\")\n"
      ],
      "metadata": {
        "colab": {
          "base_uri": "https://localhost:8080/"
        },
        "id": "MPQsoMfjPU5X",
        "outputId": "9904f954-e758-4420-8bcb-04d0fda9f9e9"
      },
      "execution_count": null,
      "outputs": [
        {
          "output_type": "stream",
          "name": "stdout",
          "text": [
            "You: Hii\n",
            "What's your name? Puspak\n",
            "Chatbot:Hi Puspak, nice to meet you!\n",
            "How old are you, Puspak? 19\n",
            "Chatbot:Cool! So you're 19 years old.\n",
            "You: yes\n",
            "Alright Puspak, tell me about yourself. What are you interested in?\n",
            "Enter an interest (or 'done' to finish): Coding\n",
            "Enter an interest (or 'done' to finish): Learning and building some cool stuff\n",
            "Enter an interest (or 'done' to finish): done\n",
            "Chatbot:Cool! So you like Coding, Learning and building some cool stuff?\n",
            "You: yes\n",
            "Chatbot:Cool! So you're 19 years old and you like Coding, Learning and building some cool stuff.\n",
            "Chatbot: Sorry! I didn't get it what you are saying??\n",
            "You: quit\n",
            "Chatbot: Bye Puspak, have a good day!\n"
          ]
        }
      ]
    }
  ]
}