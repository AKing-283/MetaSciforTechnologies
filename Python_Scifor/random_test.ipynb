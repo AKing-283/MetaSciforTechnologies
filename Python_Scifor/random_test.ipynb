{
  "nbformat": 4,
  "nbformat_minor": 0,
  "metadata": {
    "colab": {
      "provenance": []
    },
    "kernelspec": {
      "name": "python3",
      "display_name": "Python 3"
    },
    "language_info": {
      "name": "python"
    }
  },
  "cells": [
    {
      "cell_type": "code",
      "execution_count": null,
      "metadata": {
        "colab": {
          "base_uri": "https://localhost:8080/"
        },
        "id": "szeRvmooiHwo",
        "outputId": "bb39ce35-bf39-413d-8275-528a0b0505a1"
      },
      "outputs": [
        {
          "output_type": "stream",
          "name": "stdout",
          "text": [
            "Enter the number of items. you want to include in the list??4\n",
            "Enter the name of the item:Soap\n",
            "Enter the name of the item:bottle\n",
            "Enter the name of the item:deo\n",
            "Enter the name of the item:sunscreen\n",
            "['Soap', 'bottle', 'deo', 'sunscreen']\n",
            "If you want to remove an item (y/n)?y\n",
            "Enter the names of the items you need to remove: deo\n",
            "['Soap', 'bottle', 'sunscreen']\n"
          ]
        }
      ],
      "source": [
        "items_list = []\n",
        "n = int(input(\"Enter the number of items. you want to include in the list??\"))\n",
        "\n",
        "for i in range(n):\n",
        "  item = input(\"Enter the name of the item:\")\n",
        "  items_list.append(item)\n",
        "print(items_list)\n",
        "\n",
        "ch = input(\"If you want to remove an item (y/n)?\")\n",
        "if ch.lower() == \"y\":\n",
        "  items_remove = input(\"Enter the names of the items you need to remove: \")\n",
        "  if items_remove in items_list:\n",
        "   items_list.remove(items_remove)\n",
        "else:\n",
        "  print(\"No changes made\")\n",
        "print(items_list)"
      ]
    },
    {
      "cell_type": "code",
      "source": [
        "from os import name\n",
        "#Students\n",
        "students = []\n",
        "strength = int(input(\"Enter the stength of your class:\"))\n",
        "for i in range(strength):\n",
        "  name = input(\"Enter the name of the student:\")\n",
        "  students.append(name)\n",
        "stud_with_a= [name for name in students if name.lower().startswith('a')]\n",
        "print(stud_with_a)"
      ],
      "metadata": {
        "colab": {
          "base_uri": "https://localhost:8080/"
        },
        "id": "IuQJez_jlFC6",
        "outputId": "91b3d50e-13fe-44db-abf0-2f30d5451836"
      },
      "execution_count": null,
      "outputs": [
        {
          "output_type": "stream",
          "name": "stdout",
          "text": [
            "Enter the stength of your class:4\n",
            "Enter the name of the student:Ajay\n",
            "Enter the name of the student:Raju\n",
            "Enter the name of the student:Ashok\n",
            "Enter the name of the student:emd\n",
            "['Ajay', 'Ashok']\n"
          ]
        }
      ]
    },
    {
      "cell_type": "code",
      "source": [
        "students_list = []\n",
        "n = int(input(\"Enter the nummer of students: \"))\n",
        "for i in range(n):\n",
        "  name = input(\"Enter the name of the student:\")\n",
        "  students_list.append(name)\n",
        "for i,name in enumerate(students_list):\n",
        "  roll_no = i+1\n",
        "  print(str(roll_no)+\" \"+name)\n",
        "\n"
      ],
      "metadata": {
        "colab": {
          "base_uri": "https://localhost:8080/"
        },
        "id": "RdocvxiFnfhI",
        "outputId": "f441b517-bd5f-48d3-bff2-2044794397a4"
      },
      "execution_count": null,
      "outputs": [
        {
          "output_type": "stream",
          "name": "stdout",
          "text": [
            "Enter the nummer of students: 4\n",
            "Enter the name of the student:Puspak\n",
            "Enter the name of the student:rao\n",
            "Enter the name of the student:apo\n",
            "Enter the name of the student:dhf\n",
            "1 Puspak\n",
            "2 rao\n",
            "3 apo\n",
            "4 dhf\n",
            "None\n"
          ]
        }
      ]
    },
    {
      "cell_type": "code",
      "source": [
        "from collections import Counter\n",
        "\n",
        "data = []\n",
        "numbers = int(input(\"How many numbers to insert: \"))\n",
        "for i in range(numbers):\n",
        "  number_n = int(input(\"Enter the number: \"))\n",
        "  data.append(numbers)\n",
        "mean = sum(data)/len(data)\n",
        "print(mean)\n",
        "\n",
        "sorted_data = sorted(data)\n",
        "if len(sorted_data) % 2 == 0:\n",
        "  mid1 = data[len(data)//2]\n",
        "  mid2 = data[len(data)//2-1]\n",
        "  median = (mid1+mid2)/2\n",
        "else:\n",
        "  mid = len(data)//2\n",
        "  median =  sorted_data[mid]\n",
        "print(\"The median of this list is: \"+str(median))\n",
        "\n",
        "mode = Counter(data)\n",
        "mode = mode.most_common(1)\n",
        "print(mode)"
      ],
      "metadata": {
        "colab": {
          "base_uri": "https://localhost:8080/"
        },
        "id": "PuVN95bMqOF3",
        "outputId": "d14089ab-9604-4fd5-ca3d-b5097b25f4db"
      },
      "execution_count": null,
      "outputs": [
        {
          "output_type": "stream",
          "name": "stdout",
          "text": [
            "How many numbers to insert: 4\n",
            "Enter the number: 12\n",
            "Enter the number: 12\n",
            "Enter the number: 32\n",
            "Enter the number: 23\n",
            "4.0\n",
            "The median of this list is: 4.0\n",
            "[(4, 4)]\n"
          ]
        }
      ]
    },
    {
      "cell_type": "code",
      "source": [
        "students_football =[]\n",
        "\n",
        "while True:\n",
        "   name = input(\"Enter the name: \")\n",
        "   if name.lower() == \"end\":\n",
        "      break\n",
        "\n",
        "   height = int(input(\"Entyer the height of these students: \"))\n",
        "\n",
        "   students_football.append((name,height))\n",
        "\n",
        "tall_studs = [name for name,height in students_football if height>167]\n",
        "print(\"The students greater than heighht 167cm are: \"+str(tall_studs))"
      ],
      "metadata": {
        "colab": {
          "base_uri": "https://localhost:8080/"
        },
        "id": "tHd0zmNLu28j",
        "outputId": "b5afb89d-8a97-4b71-fc68-57b888feb7cb"
      },
      "execution_count": null,
      "outputs": [
        {
          "output_type": "stream",
          "name": "stdout",
          "text": [
            "Enter the name: rr\n",
            "Entyer the height of these students: 200\n",
            "Enter the name: fbefkjgb\n",
            "Entyer the height of these students: 180\n",
            "Enter the name: end\n",
            "The students greater than heighht 167cm are: ['rr', 'fbefkjgb']\n"
          ]
        }
      ]
    }
  ]
}