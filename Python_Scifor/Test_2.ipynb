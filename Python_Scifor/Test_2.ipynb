{
  "nbformat": 4,
  "nbformat_minor": 0,
  "metadata": {
    "colab": {
      "provenance": [],
      "gpuType": "T4"
    },
    "kernelspec": {
      "name": "python3",
      "display_name": "Python 3"
    },
    "language_info": {
      "name": "python"
    },
    "accelerator": "GPU"
  },
  "cells": [
    {
      "cell_type": "code",
      "execution_count": null,
      "metadata": {
        "colab": {
          "base_uri": "https://localhost:8080/"
        },
        "id": "YWd0NcEqS0QC",
        "outputId": "add70d66-4982-4534-8c3b-c5c0580748aa"
      },
      "outputs": [
        {
          "output_type": "stream",
          "name": "stdout",
          "text": [
            "Enter the text: Pushpak\n",
            "Pushpak\n",
            "Special case: 0\n",
            "upper case: 1\n",
            "lower case: 6\n",
            "numeric: 0\n"
          ]
        }
      ],
      "source": [
        "from string import digits\n",
        "#program\n",
        "text=input(\"Enter the text: \")\n",
        "print(text)\n",
        "upper=0\n",
        "lower=0\n",
        "digits=0\n",
        "special=0\n",
        "def count(text):\n",
        "  upper=0\n",
        "  lower=0\n",
        "  digits=0\n",
        "  special=0\n",
        "  for i in range(len(text)):\n",
        "    if text[i].isupper():\n",
        "      upper+=1\n",
        "    elif text[i].islower():\n",
        "      lower+=1\n",
        "    elif text[i].isdigit():\n",
        "      digits+=1\n",
        "    elif text[i].isspecial():\n",
        "      special+=1\n",
        "    else:\n",
        "      pass\n",
        "\n",
        "  print(\"Special case:\",special)\n",
        "  print(\"upper case:\",upper)\n",
        "  print(\"lower case:\",lower)\n",
        "  print(\"numeric case:\",digits)\n",
        "\n",
        "\n",
        "count(text)"
      ]
    },
    {
      "cell_type": "code",
      "source": [
        "number = int(input(\"Enter the number:\"))\n",
        "def fibbo(number):\n",
        "  for i in range(0,10):\n",
        "   if number==0:\n",
        "    return 0\n",
        "   elif number==1:\n",
        "    return 1\n",
        "   else:\n",
        "    return fibbo(number-1)+fibbo(number-2)\n",
        "\n",
        "  print(i)\n",
        "\n",
        "fibbo(number)"
      ],
      "metadata": {
        "id": "Fu3zWEFFfcHM"
      },
      "execution_count": null,
      "outputs": []
    },
    {
      "cell_type": "code",
      "source": [
        "\n",
        "\n",
        "#Date and month\n",
        "year = int(input(\"Enter the year:\"))\n",
        "month = int(input(\"Enter the month:\"))\n",
        "def cal(year,month):\n",
        " for i in range(0,31):  #As we have max upto 31 days in a month\n",
        "  if month==1 or month==3 or month==5 or month==7 or month==8 or month==10 or month==12:\n",
        "      i+=1\n",
        "      print(f\"{i}/{month}/{year}\")\n",
        "  else:\n",
        "      i+=0\n",
        " for i in range(0,28):\n",
        "  if month==2:\n",
        "      i+=1 # for leap year\n",
        "\n",
        "  print(f\"{i}/{month}/{year}\")\n",
        "\n",
        "cal(year,month)"
      ],
      "metadata": {
        "colab": {
          "base_uri": "https://localhost:8080/"
        },
        "id": "fERwxoitbAFT",
        "outputId": "9aa5ed0e-f006-45f2-c9fc-3d1d388696ec"
      },
      "execution_count": null,
      "outputs": [
        {
          "output_type": "stream",
          "name": "stdout",
          "text": [
            "Enter the year:2024\n",
            "Enter the month:2\n",
            "1/2/2024\n",
            "2/2/2024\n",
            "3/2/2024\n",
            "4/2/2024\n",
            "5/2/2024\n",
            "6/2/2024\n",
            "7/2/2024\n",
            "8/2/2024\n",
            "9/2/2024\n",
            "10/2/2024\n",
            "11/2/2024\n",
            "12/2/2024\n",
            "13/2/2024\n",
            "14/2/2024\n",
            "15/2/2024\n",
            "16/2/2024\n",
            "17/2/2024\n",
            "18/2/2024\n",
            "19/2/2024\n",
            "20/2/2024\n",
            "21/2/2024\n",
            "22/2/2024\n",
            "23/2/2024\n",
            "24/2/2024\n",
            "25/2/2024\n",
            "26/2/2024\n",
            "27/2/2024\n",
            "28/2/2024\n"
          ]
        }
      ]
    }
  ]
}