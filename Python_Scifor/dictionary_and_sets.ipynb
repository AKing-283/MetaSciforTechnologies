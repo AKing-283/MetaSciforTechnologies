{
  "nbformat": 4,
  "nbformat_minor": 0,
  "metadata": {
    "colab": {
      "provenance": []
    },
    "kernelspec": {
      "name": "python3",
      "display_name": "Python 3"
    },
    "language_info": {
      "name": "python"
    }
  },
  "cells": [
    {
      "cell_type": "code",
      "execution_count": null,
      "metadata": {
        "colab": {
          "base_uri": "https://localhost:8080/"
        },
        "id": "VDza4AFe6VST",
        "outputId": "8fbd047c-79df-4d1d-f132-12e3688647db"
      },
      "outputs": [
        {
          "output_type": "stream",
          "name": "stdout",
          "text": [
            "<class 'dict'>\n"
          ]
        }
      ],
      "source": [
        "#All operations of dictionary\n",
        "\n",
        "data ={1:\"Ajay\",2:\"Suresh\",3:\"Raju\",4:\"Shyam\"}\n",
        "print(type(data))"
      ]
    },
    {
      "cell_type": "code",
      "source": [
        "dataz = data.copy()\n",
        "print(dataz)"
      ],
      "metadata": {
        "colab": {
          "base_uri": "https://localhost:8080/"
        },
        "id": "5FWcuHwf7Ez1",
        "outputId": "6e0d3849-30d1-4aba-a5d7-c6c75f141a52"
      },
      "execution_count": null,
      "outputs": [
        {
          "output_type": "stream",
          "name": "stdout",
          "text": [
            "{1: 'Ajay', 2: 'Suresh', 3: 'Raju', 4: 'Shyam'}\n"
          ]
        }
      ]
    },
    {
      "cell_type": "code",
      "source": [
        "data.keys()"
      ],
      "metadata": {
        "colab": {
          "base_uri": "https://localhost:8080/"
        },
        "id": "vFCGjBBe7NOL",
        "outputId": "36b3317e-5b5d-46b2-cab6-9dc2687c89f7"
      },
      "execution_count": null,
      "outputs": [
        {
          "output_type": "execute_result",
          "data": {
            "text/plain": [
              "dict_keys([1, 2, 3, 4])"
            ]
          },
          "metadata": {},
          "execution_count": 5
        }
      ]
    },
    {
      "cell_type": "code",
      "source": [
        "data.values()"
      ],
      "metadata": {
        "colab": {
          "base_uri": "https://localhost:8080/"
        },
        "id": "wvAyl-nv7UEw",
        "outputId": "2fc73949-dd21-4592-98d6-cf47710fb9fe"
      },
      "execution_count": null,
      "outputs": [
        {
          "output_type": "execute_result",
          "data": {
            "text/plain": [
              "dict_values(['Ajay', 'Suresh', 'Raju', 'Shyam'])"
            ]
          },
          "metadata": {},
          "execution_count": 6
        }
      ]
    },
    {
      "cell_type": "code",
      "source": [
        "data.update({5:\"Jayesh\"})\n",
        "print(data)"
      ],
      "metadata": {
        "colab": {
          "base_uri": "https://localhost:8080/"
        },
        "id": "UUAkVQIl7XFN",
        "outputId": "a1ae5608-6bb2-41aa-8e4e-12d9b49af519"
      },
      "execution_count": null,
      "outputs": [
        {
          "output_type": "stream",
          "name": "stdout",
          "text": [
            "{1: 'Ajay', 2: 'Suresh', 3: 'Raju', 4: 'Shyam', 5: 'Jayesh'}\n"
          ]
        }
      ]
    },
    {
      "cell_type": "code",
      "source": [
        "dataz.update({6:\"Naveen\"})\n",
        "print(dataz)"
      ],
      "metadata": {
        "colab": {
          "base_uri": "https://localhost:8080/"
        },
        "id": "PM0QszHG9n3h",
        "outputId": "35bc200e-1b8c-43eb-933e-3e4e6ce3e6b9"
      },
      "execution_count": null,
      "outputs": [
        {
          "output_type": "stream",
          "name": "stdout",
          "text": [
            "{1: 'Ajay', 2: 'Suresh', 3: 'Raju', 4: 'Shyam', 6: 'Naveen'}\n"
          ]
        }
      ]
    },
    {
      "cell_type": "code",
      "source": [
        "dataz.pop(6)\n",
        "print(dataz)"
      ],
      "metadata": {
        "colab": {
          "base_uri": "https://localhost:8080/"
        },
        "id": "DorDvO9o9sgq",
        "outputId": "fd37a582-bb57-4a15-8582-0e541d7009df"
      },
      "execution_count": null,
      "outputs": [
        {
          "output_type": "stream",
          "name": "stdout",
          "text": [
            "{1: 'Ajay', 2: 'Suresh', 3: 'Raju', 4: 'Shyam'}\n"
          ]
        }
      ]
    },
    {
      "cell_type": "code",
      "source": [
        "dataz.get(3)"
      ],
      "metadata": {
        "colab": {
          "base_uri": "https://localhost:8080/",
          "height": 36
        },
        "id": "ukOdWgrZ-Uhr",
        "outputId": "7b018448-6029-4783-f8a5-b94c7a7ccaae"
      },
      "execution_count": null,
      "outputs": [
        {
          "output_type": "execute_result",
          "data": {
            "text/plain": [
              "'Raju'"
            ],
            "application/vnd.google.colaboratory.intrinsic+json": {
              "type": "string"
            }
          },
          "metadata": {},
          "execution_count": 20
        }
      ]
    },
    {
      "cell_type": "code",
      "source": [
        "dataz.items()"
      ],
      "metadata": {
        "colab": {
          "base_uri": "https://localhost:8080/"
        },
        "id": "NpdVPcku-Y_R",
        "outputId": "110c32d7-8db1-404c-c57a-8a408c7246c2"
      },
      "execution_count": null,
      "outputs": [
        {
          "output_type": "execute_result",
          "data": {
            "text/plain": [
              "dict_items([(1, 'Ajay'), (2, 'Suresh'), (3, 'Raju'), (4, 'Shyam')])"
            ]
          },
          "metadata": {},
          "execution_count": 21
        }
      ]
    },
    {
      "cell_type": "code",
      "source": [
        "dataz.setdefault(3)"
      ],
      "metadata": {
        "colab": {
          "base_uri": "https://localhost:8080/",
          "height": 36
        },
        "id": "WWeMyCPM-d3U",
        "outputId": "3c2ad98f-66ea-4501-fb18-ffb0c742001f"
      },
      "execution_count": null,
      "outputs": [
        {
          "output_type": "execute_result",
          "data": {
            "text/plain": [
              "'Raju'"
            ],
            "application/vnd.google.colaboratory.intrinsic+json": {
              "type": "string"
            }
          },
          "metadata": {},
          "execution_count": 22
        }
      ]
    },
    {
      "cell_type": "code",
      "source": [
        "dataz.clear()"
      ],
      "metadata": {
        "id": "Sm6GY6ct-jcu"
      },
      "execution_count": null,
      "outputs": []
    },
    {
      "cell_type": "code",
      "source": [
        "dataz #Due to usage of clear  in the above cell the dictionary got empty"
      ],
      "metadata": {
        "colab": {
          "base_uri": "https://localhost:8080/"
        },
        "id": "4Exwe_vc-m2R",
        "outputId": "bc7896af-7c12-4afe-c497-11a851fee3c3"
      },
      "execution_count": null,
      "outputs": [
        {
          "output_type": "execute_result",
          "data": {
            "text/plain": [
              "{}"
            ]
          },
          "metadata": {},
          "execution_count": 25
        }
      ]
    },
    {
      "cell_type": "code",
      "source": [
        "data"
      ],
      "metadata": {
        "colab": {
          "base_uri": "https://localhost:8080/"
        },
        "id": "Rri2cBj8AJLo",
        "outputId": "1aa7e332-3919-4535-9add-81ab07a3117e"
      },
      "execution_count": null,
      "outputs": [
        {
          "output_type": "execute_result",
          "data": {
            "text/plain": [
              "{1: 'Ajay', 2: 'Suresh', 3: 'Raju', 4: 'Shyam', 5: 'Jayesh'}"
            ]
          },
          "metadata": {},
          "execution_count": 29
        }
      ]
    },
    {
      "cell_type": "code",
      "source": [
        "data.popitem()\n",
        "print(data)"
      ],
      "metadata": {
        "colab": {
          "base_uri": "https://localhost:8080/"
        },
        "id": "ho_DKBzh_95V",
        "outputId": "6c1550cb-f309-4c77-f00a-1315480811f3"
      },
      "execution_count": null,
      "outputs": [
        {
          "output_type": "stream",
          "name": "stdout",
          "text": [
            "{1: 'Ajay', 2: 'Suresh', 3: 'Raju', 4: 'Shyam'}\n"
          ]
        }
      ]
    },
    {
      "cell_type": "code",
      "source": [
        "#Sets and its operations\n",
        "sets = {1,2,3,4,5,3,4,5,4,5}\n",
        "print(type(sets))\n",
        "print(sets) #It removed the duplicates !!\n",
        "print(sets.add(88))\n",
        "print(sets)\n",
        "print(sets.remove(5))\n",
        "print(sets)\n",
        "print(len(sets))\n"
      ],
      "metadata": {
        "colab": {
          "base_uri": "https://localhost:8080/"
        },
        "id": "sHCbbsk9AxPQ",
        "outputId": "c3fcd8cd-e017-44f5-dc13-225c4f03e02b"
      },
      "execution_count": null,
      "outputs": [
        {
          "output_type": "stream",
          "name": "stdout",
          "text": [
            "<class 'set'>\n",
            "{1, 2, 3, 4, 5}\n",
            "None\n",
            "{1, 2, 3, 4, 5, 88}\n",
            "None\n",
            "{1, 2, 3, 4, 88}\n",
            "5\n"
          ]
        }
      ]
    },
    {
      "cell_type": "code",
      "source": [
        "sets1 = sets.copy()\n",
        "sets1.add(55)\n",
        "print(sets.difference(sets1))\n",
        "print(sets.intersection(sets1))\n",
        "print(sets.union(sets1))\n",
        "print(sets.symmetric_difference(sets1))\n",
        "print(sets.issubset(sets1)) #boolean\n",
        "print(sets.issuperset(sets1)) #boolean"
      ],
      "metadata": {
        "colab": {
          "base_uri": "https://localhost:8080/"
        },
        "id": "VKCGLTouCGou",
        "outputId": "8242559d-bb04-40b3-fc32-cddc161d26df"
      },
      "execution_count": null,
      "outputs": [
        {
          "output_type": "stream",
          "name": "stdout",
          "text": [
            "set()\n",
            "{1, 2, 3, 4, 88}\n",
            "{1, 2, 3, 4, 55, 88}\n",
            "{55}\n",
            "True\n",
            "False\n"
          ]
        }
      ]
    },
    {
      "cell_type": "code",
      "source": [
        "sets1.clear() #The set got empty now!!\n",
        "print(sets1)\n",
        "sets1 = {1,2,3,4,5,4,5,4,7}\n",
        "print(sets1)"
      ],
      "metadata": {
        "colab": {
          "base_uri": "https://localhost:8080/"
        },
        "id": "iKJdgpZmDXbD",
        "outputId": "815d13d1-dc31-4652-af02-c3bc2107a9e2"
      },
      "execution_count": null,
      "outputs": [
        {
          "output_type": "stream",
          "name": "stdout",
          "text": [
            "set()\n",
            "{1, 2, 3, 4, 5, 7}\n"
          ]
        }
      ]
    },
    {
      "cell_type": "code",
      "source": [
        "sets.add(\"Roy\")\n",
        "print(sets)"
      ],
      "metadata": {
        "colab": {
          "base_uri": "https://localhost:8080/"
        },
        "id": "lrKUOVaUDkss",
        "outputId": "29578044-82f5-49a0-8271-ae988307d58d"
      },
      "execution_count": null,
      "outputs": [
        {
          "output_type": "stream",
          "name": "stdout",
          "text": [
            "{1, 2, 3, 4, 88, 'Roy'}\n"
          ]
        }
      ]
    },
    {
      "cell_type": "code",
      "source": [
        "print(sets.difference(sets1))\n",
        "print(sets.intersection(sets1))\n",
        "print(sets.union(sets1))\n",
        "print(sets.symmetric_difference(sets1))\n",
        "print(sets.issubset(sets1))\n",
        "print(sets.issuperset(sets1))\n",
        "print(sets.isdisjoint(sets1))"
      ],
      "metadata": {
        "colab": {
          "base_uri": "https://localhost:8080/"
        },
        "id": "LmHNt25fELP1",
        "outputId": "acd81e72-c7b9-4847-a3a7-0e4453f09989"
      },
      "execution_count": null,
      "outputs": [
        {
          "output_type": "stream",
          "name": "stdout",
          "text": [
            "{88, 'Roy'}\n",
            "{1, 2, 3, 4}\n",
            "{1, 2, 3, 4, 5, 7, 88, 'Roy'}\n",
            "{5, 7, 88, 'Roy'}\n",
            "False\n",
            "False\n",
            "False\n"
          ]
        }
      ]
    },
    {
      "cell_type": "code",
      "source": [
        "print(sets1.issubset(sets))\n",
        "print(sets1.issuperset(sets))\n",
        "print(sets1.isdisjoint(sets))\n",
        "print(sets1.union(sets))\n",
        "print(sets1.intersection(sets))\n",
        "print(sets1.difference(sets))\n",
        "print(sets1.symmetric_difference(sets))"
      ],
      "metadata": {
        "colab": {
          "base_uri": "https://localhost:8080/"
        },
        "id": "I4J1itnhFQK3",
        "outputId": "f53d5ef3-9595-4533-d2d9-f7e97d885160"
      },
      "execution_count": null,
      "outputs": [
        {
          "output_type": "stream",
          "name": "stdout",
          "text": [
            "False\n",
            "False\n",
            "False\n",
            "{1, 2, 3, 4, 5, 7, 88, 'Roy'}\n",
            "{1, 2, 3, 4}\n",
            "{5, 7}\n",
            "{5, 7, 88, 'Roy'}\n"
          ]
        }
      ]
    },
    {
      "cell_type": "code",
      "source": [],
      "metadata": {
        "id": "mVjW32d6FWhP"
      },
      "execution_count": null,
      "outputs": []
    }
  ]
}