{
  "nbformat": 4,
  "nbformat_minor": 0,
  "metadata": {
    "colab": {
      "provenance": []
    },
    "kernelspec": {
      "name": "python3",
      "display_name": "Python 3"
    },
    "language_info": {
      "name": "python"
    }
  },
  "cells": [
    {
      "cell_type": "code",
      "execution_count": null,
      "metadata": {
        "colab": {
          "base_uri": "https://localhost:8080/"
        },
        "id": "MehcfjdTXh36",
        "outputId": "8a190db2-1799-4326-c7d2-71c2997c66ca"
      },
      "outputs": [
        {
          "output_type": "stream",
          "name": "stdout",
          "text": [
            "Dragon exhales fire!\n",
            "\n",
            "Phoenix rises from ashes!\n"
          ]
        }
      ],
      "source": [
        "class Creature:\n",
        "    def power(self):\n",
        "        print(\"Creature has power!\")\n",
        "\n",
        "class Dragon(Creature):\n",
        "    def power(self):\n",
        "        print(\"Dragon exhales fire!\")\n",
        "        depth=3\n",
        "        if depth < 3:\n",
        "            depth += 1\n",
        "            Dragon().power()\n",
        "\n",
        "class Phoenix(Creature):\n",
        "    def power(self):\n",
        "        print(\"Phoenix rises from ashes!\")\n",
        "        depth=3\n",
        "        if depth < 3:\n",
        "            depth += 1\n",
        "            Phoenix().power()\n",
        "\n",
        "\n",
        "dragon = Dragon()\n",
        "dragon.power()\n",
        "print()\n",
        "phoenix = Phoenix()\n",
        "phoenix.power()"
      ]
    },
    {
      "cell_type": "code",
      "source": [
        "class Trees():\n",
        "  def growth(self):\n",
        "    print(\"Trees grows!!\")\n",
        "\n",
        "class Pine(Trees):\n",
        "  def growth(self):\n",
        "    print(\"Pine trees grows really well!!\")\n",
        "    level=3\n",
        "    if level < 3:\n",
        "      level += 1\n",
        "      Pine().growth()\n",
        "\n",
        "class Oak(Trees):\n",
        "  def growth(self):\n",
        "    print(\"Oak trees grows well!!\")\n",
        "    level=3\n",
        "    if level < 3:\n",
        "      level += 1\n",
        "      Oak().growth()\n",
        "\n",
        "pine = Pine()\n",
        "pine.growth()\n",
        "print()\n",
        "oak = Oak()\n",
        "oak.growth()\n",
        "\n"
      ],
      "metadata": {
        "colab": {
          "base_uri": "https://localhost:8080/"
        },
        "id": "3TCvpdysbZ-V",
        "outputId": "40bd0e9b-7596-486d-f195-44c4ad44fdca"
      },
      "execution_count": null,
      "outputs": [
        {
          "output_type": "stream",
          "name": "stdout",
          "text": [
            "Pine trees grows really well!!\n",
            "\n",
            "Oak trees grows well!!\n"
          ]
        }
      ]
    },
    {
      "cell_type": "code",
      "source": [
        "'''In a mystical library, books hold secrets. Create a Book class with a\n",
        "content() method revealing book details. Derive FantasyBook and\n",
        "SciFiBook classes inheriting Book. Use recursion to display the content\n",
        "of each book. Instructions: Define a Book class with a content() method\n",
        "that presents book details. Derive FantasyBook and SciFiBook classes\n",
        "inheriting Book, overriding content(). Utilize recursion to showcase the\n",
        "content of both a Fantasy Book and a Sci-Fi Book.'''\n",
        "\n",
        "class Book():\n",
        "  def content(self):\n",
        "    print(\"Books having great secret!!\")\n",
        "\n",
        "class FantasyBook(Book):\n",
        "  def content(self):\n",
        "    print(\"Fantasy Book having great fantastic secret!!\")\n",
        "    level=3\n",
        "    if level < 3:\n",
        "      level += 1\n",
        "      FantasyBook().content()\n",
        "\n",
        "class SciFiBook(Book):\n",
        "  def content(self):\n",
        "    print(\"SciFiBooks having real and great. scientific secrets!!\")\n",
        "\n",
        "\n",
        "FB=FantasyBook()\n",
        "FB.content()\n",
        "print()\n",
        "SB=SciFiBook()\n",
        "SB.content()"
      ],
      "metadata": {
        "colab": {
          "base_uri": "https://localhost:8080/"
        },
        "id": "uDECxrZ1d98t",
        "outputId": "762a9d17-f148-4919-8264-5b20616a1878"
      },
      "execution_count": null,
      "outputs": [
        {
          "output_type": "stream",
          "name": "stdout",
          "text": [
            "Fantasy Book having great fantastic secret!!\n",
            "\n",
            "SciFiBooks having real and great. scientific secrets!!\n"
          ]
        }
      ]
    },
    {
      "cell_type": "code",
      "source": [],
      "metadata": {
        "id": "QidnDP0FfHp8"
      },
      "execution_count": null,
      "outputs": []
    }
  ]
}