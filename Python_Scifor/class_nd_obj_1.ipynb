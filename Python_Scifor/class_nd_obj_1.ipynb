{
  "nbformat": 4,
  "nbformat_minor": 0,
  "metadata": {
    "colab": {
      "provenance": []
    },
    "kernelspec": {
      "name": "python3",
      "display_name": "Python 3"
    },
    "language_info": {
      "name": "python"
    }
  },
  "cells": [
    {
      "cell_type": "code",
      "execution_count": null,
      "metadata": {
        "colab": {
          "base_uri": "https://localhost:8080/"
        },
        "id": "Byemvg9U79qg",
        "outputId": "ca77306c-68bb-46d8-9471-f69d491d5bae"
      },
      "outputs": [
        {
          "output_type": "stream",
          "name": "stdout",
          "text": [
            "21\n"
          ]
        }
      ],
      "source": [
        "#Perimeter of triangle\n",
        "class perimeter():\n",
        "  def __init__(self,a,b,c):\n",
        "    self.a=a\n",
        "    self.b=b\n",
        "    self.c=c\n",
        "  def perimeter(self):\n",
        "    return self.a+self.b+self.c\n",
        "\n",
        "obj1 = perimeter(6,7,8)\n",
        "peri = obj1.perimeter()\n",
        "print(peri)"
      ]
    },
    {
      "cell_type": "code",
      "source": [
        "class Area():\n",
        "  def __init__(self,a,b):\n",
        "    self.a=a\n",
        "    self.b=b\n",
        "  def triangle(self):\n",
        "    return 1/2*self.a*self.b\n",
        "  def square(self):\n",
        "    return self.a*self.a\n",
        "  def rectangle(self):\n",
        "    return self.a*self.b\n",
        "\n",
        "obj = Area(6,9)\n",
        "area_of_triangle = obj.triangle()\n",
        "area_of_square = obj.square()\n",
        "area_of_rectangle = obj.rectangle()\n",
        "\n",
        "print(area_of_triangle)\n",
        "print(area_of_square)\n",
        "print(area_of_rectangle)\n"
      ],
      "metadata": {
        "colab": {
          "base_uri": "https://localhost:8080/"
        },
        "id": "D5ZmCnFY9ley",
        "outputId": "f12d702d-e8cc-4e29-b54f-7d20cfe896fd"
      },
      "execution_count": null,
      "outputs": [
        {
          "output_type": "stream",
          "name": "stdout",
          "text": [
            "27.0\n",
            "36\n",
            "54\n"
          ]
        }
      ]
    },
    {
      "cell_type": "code",
      "source": [
        "#Sum of 1000 numbers\n",
        "class sum():\n",
        "  def __init__(self,numbers):\n",
        "   self.numbers = numbers\n",
        "\n",
        "  def sum_of_1000(self):\n",
        "   self.numbers = 0\n",
        "   for i in range(1,1001):\n",
        "    self.numbers=self.numbers+i\n",
        "   return self.numbers\n",
        "\n",
        "obj = sum(1000)\n",
        "sum_1000 = obj.sum_of_1000()\n",
        "print(sum_1000)\n",
        "\n"
      ],
      "metadata": {
        "colab": {
          "base_uri": "https://localhost:8080/"
        },
        "id": "ICo3KIrK_CK9",
        "outputId": "67a6a522-234f-4b39-bac3-3c0ad2aaf79c"
      },
      "execution_count": null,
      "outputs": [
        {
          "output_type": "stream",
          "name": "stdout",
          "text": [
            "500500\n"
          ]
        }
      ]
    },
    {
      "cell_type": "code",
      "source": [
        "#Fibonacci programm using class and objects\n",
        "\n",
        "class fibo():\n",
        "  def __init__(self,n):\n",
        "    self.n=n\n",
        "    self.fibo1 = [0,1]\n",
        "  def logic(self):\n",
        "        if self.n <= 1:\n",
        "            return self.fibo1[:self.n + 1]\n",
        "\n",
        "        for i in range(2, self.n + 1):\n",
        "            next = self.fibo1[i - 1] + self.fibo1[i - 2]\n",
        "            self.fibo1.append(next)\n",
        "\n",
        "        return self.fibo1\n",
        "\n",
        "\n",
        "obj = fibo(20)\n",
        "new = obj.logic()\n",
        "print(new)"
      ],
      "metadata": {
        "colab": {
          "base_uri": "https://localhost:8080/"
        },
        "id": "b9mFG2VeA0Wo",
        "outputId": "6e649f9b-b077-4b57-b4f7-38d0c4c72195"
      },
      "execution_count": null,
      "outputs": [
        {
          "output_type": "stream",
          "name": "stdout",
          "text": [
            "[0, 1, 1, 2, 3, 5, 8, 13, 21, 34, 55, 89, 144, 233, 377, 610, 987, 1597, 2584, 4181, 6765]\n"
          ]
        }
      ]
    }
  ]
}