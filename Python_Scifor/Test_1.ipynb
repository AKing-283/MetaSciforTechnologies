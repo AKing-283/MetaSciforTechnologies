{
  "nbformat": 4,
  "nbformat_minor": 0,
  "metadata": {
    "colab": {
      "provenance": []
    },
    "kernelspec": {
      "name": "python3",
      "display_name": "Python 3"
    },
    "language_info": {
      "name": "python"
    }
  },
  "cells": [
    {
      "cell_type": "code",
      "execution_count": null,
      "metadata": {
        "colab": {
          "base_uri": "https://localhost:8080/"
        },
        "id": "lVUOLKcASaB3",
        "outputId": "d2ac0173-628d-4373-e7e1-79bd60bf59d7"
      },
      "outputs": [
        {
          "output_type": "stream",
          "name": "stdout",
          "text": [
            "Enter your Age ffor Driving License:19\n",
            "You are eligiible for applying for Driving's license\n"
          ]
        }
      ],
      "source": [
        "#RTO\n",
        "Age = int(input(\"Enter your Age ffor Driving License:\"))\n",
        "if Age>=18:\n",
        "    print(\"You are eligiible for applying for Driving's license\")\n",
        "else:\n",
        "  print(\"You are not eligible for this\")"
      ]
    },
    {
      "cell_type": "code",
      "source": [
        "#Guidance for Jake\n",
        "def traffic_light(color):  #to avoid errors\n",
        "  if color == \"Red\":\n",
        "    print(\"You should stop your vehicle now Jake\")\n",
        "  elif color == \"Yellow\":\n",
        "    print(\"In yellow color you should be ready and have to wait. for the signal to be green\")\n",
        "  elif color == \"Green\":\n",
        "    print(\"You should now move your vehicle at proper speed and leave that place or keep your vehicle aside but don't wait or be slow at mid road\")\n",
        "  else:\n",
        "    print(\"Maintain your vehicle's pace properly and follow thw RTO guidelines.\")\n",
        "\n",
        "color = input(\"Enter the color of the signal provided by the signal indicator: \")\n",
        "traffic_light(color.lower())"
      ],
      "metadata": {
        "colab": {
          "base_uri": "https://localhost:8080/"
        },
        "id": "7Suk5fYgTPAy",
        "outputId": "0c22d9b0-c94b-4f5b-c3e2-e1564f590cd0"
      },
      "execution_count": null,
      "outputs": [
        {
          "output_type": "stream",
          "name": "stdout",
          "text": [
            "Enter the color of the signal provided by the signal indicator: yellow\n",
            "Maintain your vehicle's pace properly and follow thw RTO guidelines.\n"
          ]
        }
      ]
    },
    {
      "cell_type": "code",
      "source": [
        "shopping_budget = []\n",
        "your_budget = int(input(\"Enter your budget: \"))\n",
        "\n",
        "\n",
        "def display():\n",
        "  print(\"-------Welcome to the Budget Calculator------\")\n",
        "  print(\"1. Add grocery items:\")\n",
        "  print(\"2. Exit\")\n",
        "\n",
        "  option = int(input(\"Enter your choice or option: \"))\n",
        "\n",
        "  if option == 1:\n",
        "    print(\"Adding the items \")\n",
        "    Grocery_items = []\n",
        "    veggies = input(\"Enter your veggies:\")\n",
        "    Grocery_items.append(veggies)\n",
        "    cost = int(input(\"Enter the cost of the item: \"))\n",
        "    shopping_budget.append(cost)\n",
        "    veggies = input(\"Enter your veggies:\")\n",
        "    Grocery_items.append(veggies)\n",
        "    cost = int(input(\"Enter the cost of the item: \"))\n",
        "    shopping_budget.append(cost)\n",
        "    veggies = input(\"Enter your veggies:\")\n",
        "    Grocery_items.append(veggies)\n",
        "    cost = int(input(\"Enter the cost of the item: \"))\n",
        "    shopping_budget.append(cost)\n",
        "\n",
        "    print(Grocery_items)\n",
        "    total_cost = sum(shopping_budget)\n",
        "    print(f\"Your current shopping budget is: {total_cost}\")\n",
        "\n",
        "    if total_cost > your_budget:\n",
        "      print(f\"Your current budget ({your_budget}) is exceeded.\")\n",
        "      print(f\"Please remove some items or ttry to increase your budget.\")\n",
        "    else:\n",
        "      print(f\"Your budget of {your_budget} is sufficient for your current shopping list.\")\n",
        "      print(\"Thanks for using our budget calculator app!\")\n",
        "\n",
        "  else:\n",
        "    print(\"Thanks for using our budget calculator app!\")\n",
        "\n",
        "\n",
        "\n",
        "display()\n"
      ],
      "metadata": {
        "colab": {
          "base_uri": "https://localhost:8080/"
        },
        "id": "byyB-eWzVUEC",
        "outputId": "fb56c284-21b8-4552-860b-2714db16bd94"
      },
      "execution_count": null,
      "outputs": [
        {
          "output_type": "stream",
          "name": "stdout",
          "text": [
            "Enter your budget: 1200\n",
            "-------Welcome to the Budget Calculator------\n",
            "1. Add grocery items:\n",
            "2. Exit\n",
            "Enter your choice or option: 1\n",
            "Adding the items \n",
            "Enter your veggies:Spinach\n",
            "Enter the cost of the item: 250\n",
            "Enter your veggies:Broccoli\n",
            "Enter the cost of the item: 500\n",
            "Enter your veggies:Capsicum\n",
            "Enter the cost of the item: 650\n",
            "['Spinach', 'Broccoli', 'Capsicum']\n",
            "Your current shopping budget is: 1400\n",
            "Your current budget (1200) is exceeded.\n",
            "Please remove some items or ttry to increase your budget.\n"
          ]
        }
      ]
    },
    {
      "cell_type": "code",
      "source": [
        "#hheight conversion into cemtimeters\n",
        "def feet_inch_to_cm(feet,inches):\n",
        "  inches_total = feet * 12 +inches\n",
        "  cm = inches_total*2.54\n",
        "  return cm\n",
        "\n",
        "Sameer_feet = float(input(\"Enter your height in feet: \"))\n",
        "Sameer_inches = float(input(\"Enter your height in inches: \"))\n",
        "print(f\"Sameer's height in feet and inches are {feet_inch_to_cm(Sameer_feet,Sameer_inches)}\")"
      ],
      "metadata": {
        "colab": {
          "base_uri": "https://localhost:8080/"
        },
        "id": "u_3BJWgYfKle",
        "outputId": "9e90e9c2-726f-4f34-f8c8-e1d23d2c7b39"
      },
      "execution_count": null,
      "outputs": [
        {
          "output_type": "stream",
          "name": "stdout",
          "text": [
            "Enter your height in feet: 6\n",
            "Enter your height in inches: 72\n",
            "Sameer's height in feet. and inches are 365.76\n"
          ]
        }
      ]
    }
  ]
}