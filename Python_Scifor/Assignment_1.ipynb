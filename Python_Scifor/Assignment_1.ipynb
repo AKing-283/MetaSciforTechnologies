{
  "nbformat": 4,
  "nbformat_minor": 0,
  "metadata": {
    "colab": {
      "provenance": []
    },
    "kernelspec": {
      "name": "python3",
      "display_name": "Python 3"
    },
    "language_info": {
      "name": "python"
    }
  },
  "cells": [
    {
      "cell_type": "code",
      "execution_count": null,
      "metadata": {
        "colab": {
          "base_uri": "https://localhost:8080/"
        },
        "id": "pH_AqaFt7nO5",
        "outputId": "7f945311-c756-4f77-eba9-b83006c9cbf5"
      },
      "outputs": [
        {
          "output_type": "stream",
          "name": "stdout",
          "text": [
            "Arvind\n",
            "Enter your Name:Puspak\n",
            "Enter your Age:19\n",
            "Hello Puspak You are 19 years old\n"
          ]
        }
      ],
      "source": [
        "name=\"Arvind\"\n",
        "print(name)\n",
        "\n",
        "Name=input(\"Enter your Name:\")\n",
        "Age=input(\"Enter your Age:\")\n",
        "print(\"Hello\",Name,\"You are\",Age,\"years old\")"
      ]
    },
    {
      "cell_type": "code",
      "source": [
        "def square():\n",
        "  size = 5\n",
        "  print(\"+\" + \"-\" * size + \"+\")\n",
        "  for i in range(size):\n",
        "    print(\"|\" + \" \" * size + \"|\")\n",
        "  print(\"+\" + \"-\" * size + \"+\")\n",
        "\n",
        "def triangle():\n",
        "  size = 5\n",
        "  for i in range(1, size + 1):\n",
        "    print(\"|\" * i)\n",
        "\n",
        "def diamond():\n",
        "  size = 5\n",
        "  for i in range(1, size + 1):\n",
        "    print(\" \" * (size - i) + \"/\" * (2 * i - 1))\n",
        "  for i in range(size - 1, 0, -1):\n",
        "    print(\" \" * (size - i) + \"\\\\\" * (2 * i - 1))\n",
        "\n",
        "print(\"Square:\")\n",
        "square()\n",
        "print(\"\\nTriangle:\")\n",
        "triangle()\n",
        "print(\"\\nDiamond:\")\n",
        "diamond()\n"
      ],
      "metadata": {
        "colab": {
          "base_uri": "https://localhost:8080/"
        },
        "id": "H_My9SQg8kNq",
        "outputId": "18b0a6a3-d427-4d33-ad89-c973ebdec45b"
      },
      "execution_count": null,
      "outputs": [
        {
          "output_type": "stream",
          "name": "stdout",
          "text": [
            "Square:\n",
            "+-----+\n",
            "|     |\n",
            "|     |\n",
            "|     |\n",
            "|     |\n",
            "|     |\n",
            "+-----+\n",
            "\n",
            "Triangle:\n",
            "|\n",
            "||\n",
            "|||\n",
            "||||\n",
            "|||||\n",
            "\n",
            "Diamond:\n",
            "    /\n",
            "   ///\n",
            "  /////\n",
            " ///////\n",
            "/////////\n",
            " \\\\\\\\\\\\\\\n",
            "  \\\\\\\\\\\n",
            "   \\\\\\\n",
            "    \\\n"
          ]
        }
      ]
    },
    {
      "cell_type": "code",
      "source": [
        "print(\"Ajay\\n\"+\"Suresh\\n\"+\"Ramesh\\n\"+\"Naresh\\n\"+\"Brijesh\\n\")"
      ],
      "metadata": {
        "colab": {
          "base_uri": "https://localhost:8080/"
        },
        "id": "ZyDVHoc49RPH",
        "outputId": "70bcd788-0b52-441c-e4ab-9e7bd26f0ccf"
      },
      "execution_count": null,
      "outputs": [
        {
          "output_type": "stream",
          "name": "stdout",
          "text": [
            "Ajay\n",
            "Suresh\n",
            "Ramesh\n",
            "Naresh\n",
            "Brijesh\n",
            "\n"
          ]
        }
      ]
    },
    {
      "cell_type": "code",
      "source": [
        "# Essay for Nidhi\n",
        "def essay(age: int, name: str, goals: str, hobbies: str, address: str, fav_books: str):\n",
        "\n",
        "  essay = f\"Hello All, I am {name} and I am {age} years old. My Goals are {Goals} and my hobbies are {Hobbies}\\n My Address is {Addresses} and my Fav_books are {Fav_books}\\n\"\n",
        "  return essay\n",
        "\n",
        "age = int(input(\"Enter your Age:\"))\n",
        "name = input(\"Enter your Name:\")\n",
        "Goals= input(\"Enter your Goals:\")\n",
        "Hobbies= input(\"Enter your Hobbies:\")\n",
        "Addresses= input(\"Enter your Addresses:\")\n",
        "Fav_books= input(\"Enter your Fav_books:\")\n",
        "\n",
        "essay = essay(age, name, Goals, Hobbies, Addresses, Fav_books)\n",
        "print(essay)"
      ],
      "metadata": {
        "colab": {
          "base_uri": "https://localhost:8080/"
        },
        "id": "HMMHJDT_9wBP",
        "outputId": "6b596de4-41b7-400b-d693-b70a1ef04d5b"
      },
      "execution_count": null,
      "outputs": [
        {
          "output_type": "stream",
          "name": "stdout",
          "text": [
            "Enter your Age:17\n",
            "Enter your Name:Nidhi\n",
            "Enter your Goals:Engineering \n",
            "Enter your Hobbies:Travelling, Rading books\n",
            "Enter your Addresses:New Delhi 402010\n",
            "Enter your Fav_books:Three men in a boat\n",
            "Hello All, I am Nidhi and I am 17 years old. My Goals are Engineering  and my hobbies are Travelling, Rading books\n",
            " My Addresses are New Delhi 402010 and my Fav_books are Three men in a boat\n",
            "\n"
          ]
        }
      ]
    },
    {
      "cell_type": "code",
      "source": [
        "def greet():    #chatbot for Nidhi\n",
        "  print(\"Hi, I am a chatbot. What is your name?\")\n",
        "  user_name = input(\">>\")\n",
        "  return user_name\n",
        "\n",
        "def ask_grade(user_name):\n",
        "  print(f\"Oh, {user_name} in which grade are you right now?\")\n",
        "  grade = int(input(\">>\"))\n",
        "  return grade\n",
        "\n",
        "def info(user_name):\n",
        "  print(f\"{user_name} you are in {grade}th grade. Can I ask you one question? Yes or No\")\n",
        "  option = input(\">>\")\n",
        "  option = option.lower()\n",
        "  if option == \"yes\":\n",
        "    return True\n",
        "  else:\n",
        "    print(\"No\")\n",
        "    return False\n",
        "\n",
        "def question(user_name):\n",
        "  print(f\"{user_name}, tell me 1024 + 98 =?\")\n",
        "  solution = int(input(\">>\"))\n",
        "  if solution == 1122:\n",
        "    print(\"Correct!\")\n",
        "  else:\n",
        "    print(\"Incorrect solution, The answer is 1122.\")\n",
        "  return solution\n",
        "\n",
        "def say_goodbye(correct):\n",
        "  if correct:\n",
        "    print(\"Good! Your answer is correct. Bye!\")\n",
        "  else:\n",
        "    print(\"Thanks for trying! Bye!\")\n",
        "\n",
        "def chatbot():\n",
        "  user_name = greet()\n",
        "  grade = ask_grade(user_name)\n",
        "  answer_to_question = info(user_name)\n",
        "\n",
        "  if answer_to_question:\n",
        "    solution = question(user_name)\n",
        "    say_goodbye(solution == 1122)\n",
        "  else:\n",
        "    say_goodbye(False)\n",
        "\n",
        "chatbot()"
      ],
      "metadata": {
        "colab": {
          "base_uri": "https://localhost:8080/"
        },
        "id": "JZBhBe_3DtgY",
        "outputId": "b13c8a29-7f66-4551-9db4-f1cc6ab73519"
      },
      "execution_count": null,
      "outputs": [
        {
          "output_type": "stream",
          "name": "stdout",
          "text": [
            "Hi, I am a chatbot. What is your name?\n",
            ">>Nidhi\n",
            "Oh, Nidhi in which grade are you right now?\n",
            ">>8\n",
            "Nidhi you are in 8th grade. Can I ask you one question? Yes or No\n",
            ">>No\n",
            "Okay, no problem. Maybe next time!\n",
            "Thanks for trying! Bye!\n"
          ]
        }
      ]
    },
    {
      "cell_type": "code",
      "source": [
        "\"\"\"Himanshu sells notebooks. Sometimes it becomes a bit difficult for him to calculate the total amount to charge from the customer.\n",
        "   To help Himanshu create a program that asks the user to enter the number of books to buy and then print the amount to be paid.\n",
        "   Hint: Assume the cost of one notebook - $2\n",
        "\"\"\"\n",
        "\n",
        "def notebook_sold():\n",
        "  sold = int(input(\"Give me the number of notebooks you sold today: \"))\n",
        "  print(f\"The total amount to be paid is ${sold * 2}\")\n",
        "\n",
        "notebook_sold()"
      ],
      "metadata": {
        "colab": {
          "base_uri": "https://localhost:8080/"
        },
        "id": "z7puoUWB8WQg",
        "outputId": "e1b9a644-86aa-4ab8-dbea-1e362475f9fa"
      },
      "execution_count": null,
      "outputs": [
        {
          "output_type": "stream",
          "name": "stdout",
          "text": [
            "Give me the number of notebooks you sold today: 50\n",
            "The total amount to be paid is $100\n"
          ]
        }
      ]
    },
    {
      "cell_type": "code",
      "source": [
        "#Shubh wants a calculator\n",
        "first_num = int(input(\"Enter your first number: \"))\n",
        "second_num = int(input(\"Enter your second number: \"))\n",
        "\n",
        "def add(first_num, second_num):\n",
        "  print(first_num + second_num)\n",
        "  return first_num + second_num\n",
        "\n",
        "def subtract(first_num, second_num):\n",
        "  print(first_num - second_num)\n",
        "  return first_num - second_num\n",
        "\n",
        "def multiply(first_num, second_num):\n",
        "  print(first_num * second_num)\n",
        "  return first_num * second_num\n",
        "\n",
        "def divide(first_num, second_num):\n",
        "  print(first_num / second_num)\n",
        "  return first_num / second_num\n",
        "\n",
        "operation = input(\"Enter the operation you need to perform: \" +\" \")\n",
        "if operation == \"Add\":\n",
        "  add(first_num, second_num)\n",
        "elif operation == \"Sub\":\n",
        "  subtract(first_num, second_num)\n",
        "elif operation == \"Mul\":\n",
        "  multiply(first_num, second_num)\n",
        "elif operation == \"Div\":\n",
        "  divide(first_num, second_num)\n",
        "else:\n",
        "  print(\"Invalid operation\")"
      ],
      "metadata": {
        "colab": {
          "base_uri": "https://localhost:8080/"
        },
        "id": "idR4YM259ECG",
        "outputId": "e6891963-b0cc-458e-e92a-96390cd21526"
      },
      "execution_count": null,
      "outputs": [
        {
          "output_type": "stream",
          "name": "stdout",
          "text": [
            "Enter your first number: 24\n",
            "Enter your second number: 36\n",
            "Enter the operation you need to perform:  Add\n",
            "60\n"
          ]
        }
      ]
    },
    {
      "cell_type": "code",
      "source": [
        "Birth_year = int(input(\"Enter your Birth year:\")).  #age calculation for Rakshita and her classmates\n",
        "print(f\"Your Birth year is {Birth_year} \")\n",
        "\n",
        "Current_year = int(input(\"Enter the current Year: \"))\n",
        "print(f\"Currently {Current_year} is going on\")\n",
        "\n",
        "print(f\"You are {Current_year - Birth_year} years old\")"
      ],
      "metadata": {
        "colab": {
          "base_uri": "https://localhost:8080/"
        },
        "id": "rU_lCDr9_9AF",
        "outputId": "1d4c3e28-d061-42cb-8ece-1d4aad559c1e"
      },
      "execution_count": null,
      "outputs": [
        {
          "output_type": "stream",
          "name": "stdout",
          "text": [
            "Enter your Birth year:2004\n",
            "Your Birth year is 2004 \n",
            "Enter the current Year: 2024\n",
            "Currently 2024 is going on\n",
            "You are 20 years old\n"
          ]
        }
      ]
    }
  ]
}