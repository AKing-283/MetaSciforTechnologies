{
  "nbformat": 4,
  "nbformat_minor": 0,
  "metadata": {
    "colab": {
      "provenance": []
    },
    "kernelspec": {
      "name": "python3",
      "display_name": "Python 3"
    },
    "language_info": {
      "name": "python"
    }
  },
  "cells": [
    {
      "cell_type": "code",
      "execution_count": null,
      "metadata": {
        "colab": {
          "base_uri": "https://localhost:8080/"
        },
        "id": "ngg_1Ba-cPgm",
        "outputId": "f0def060-6e78-4339-9747-b687f00d17b2"
      },
      "outputs": [
        {
          "output_type": "stream",
          "name": "stdout",
          "text": [
            "Teachers can distribute 15 chocolates among themselves\n"
          ]
        }
      ],
      "source": [
        "Students_count = 78\n",
        "Chocolates_count_with_teachers = 327\n",
        "\n",
        "No_of_chocolates_rem_after_distribution = Chocolates_count_with_teachers%Students_count\n",
        "print(f\"Teachers can distribute {No_of_chocolates_rem_after_distribution} chocolates among themselves\")"
      ]
    },
    {
      "cell_type": "code",
      "source": [
        "#Domino's Lucky Draw\n",
        "def Customer_registration():\n",
        "  Customer_name = input(\"Enter your Name: \")\n",
        "  Customer_Age = int(input(\"Enter your Age: \"))\n",
        "  Customer_Mob = (input(\"Enter your Mobile Number: \"))\n",
        "  Customer_Email = input(\"Enter your Email Address: \")\n",
        "\n",
        "\n",
        "  print(f\"Hi {Customer_name} ! Thanks for Visiting Our Domino's Branch and registering for lucky draw commpetition on our 25th Anniversary\")\n",
        "  print(f\"Once the lucky draw results are announced you will receive a message on your mobile number: {Customer_Mob}.\")\n",
        "  print(f\"An detailed description of your gift on your email Id :{Customer_Email}\")\n",
        "  print(f\"Thank you for being a valued customer {Customer_name}!!Dominos\")\n",
        "\n",
        "Customer_registration()\n",
        "\n",
        "\n"
      ],
      "metadata": {
        "colab": {
          "base_uri": "https://localhost:8080/"
        },
        "id": "j5s8ANAXc1gD",
        "outputId": "3a37e694-c2dc-4c22-8168-035ebb7b5b6a"
      },
      "execution_count": null,
      "outputs": [
        {
          "output_type": "stream",
          "name": "stdout",
          "text": [
            "Enter your Name: Puspak\n",
            "Enter your Age: 19\n",
            "Enter your Mobile Number: +919145678912\n",
            "Enter your Email Address: noo@gmail.com\n",
            "Hi Puspak ! Thanks for Visiting Our Domino's Branch and registering for lucky draw commpetition on our 25th Anniversary\n",
            "Once the lucky draw results are announced you will receive a message on your mobile number: +919145678912.\n",
            "An detailed description of your gift on your email Id :noo@gmail.com\n",
            "Thank you for being a valued customer Puspak!!Dominos\n"
          ]
        }
      ]
    },
    {
      "cell_type": "code",
      "source": [
        "#Quiz competition\n",
        "No_of_students = int(input(\"Enter the number of students: \"))\n",
        "No_of_students_per_team = int(input(\"Enter the number of students per team: \"))\n",
        "\n",
        "No_of_teams = No_of_students//No_of_students_per_team\n",
        "print(f\"The number of teams required are: {No_of_teams}\")"
      ],
      "metadata": {
        "colab": {
          "base_uri": "https://localhost:8080/"
        },
        "id": "HbqQqg6gicEG",
        "outputId": "a70811b2-98fd-41d8-93e2-cf54d2efe783"
      },
      "execution_count": null,
      "outputs": [
        {
          "output_type": "stream",
          "name": "stdout",
          "text": [
            "Enter the number of students: 60\n",
            "Enter the number of students per team: 4\n",
            "The number of teams required are: 15\n"
          ]
        }
      ]
    },
    {
      "cell_type": "code",
      "source": [
        "#Fahrenheit to celsius temperature calculator\n",
        "\n",
        "Temp_f = float(input(\"Enter the temperature in Fahrenheit: \"))\n",
        "Temp_c = (Temp_f-32)*5/9\n",
        "print(f\"The temperature in Celsius is: {Temp_c}\")\n",
        "\n",
        "#Temp_c = float(input(\"Enter the temperature in Celsius:\"))\n",
        "#Temp_f = (Temp_c * 9/5)+32\n",
        "#print(f\"The temperature in Fahrenheit is: {Temp_f}\")"
      ],
      "metadata": {
        "colab": {
          "base_uri": "https://localhost:8080/"
        },
        "id": "k9sKGylmiNTL",
        "outputId": "1417d032-a466-4916-cf3f-38b81b0d97ae"
      },
      "execution_count": null,
      "outputs": [
        {
          "output_type": "stream",
          "name": "stdout",
          "text": [
            "Enter the temperature in Fahrenheit: 64\n",
            "The temperature in Celsius is: 17.77777777777778\n"
          ]
        }
      ]
    }
  ]
}